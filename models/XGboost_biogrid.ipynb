{
 "cells": [
  {
   "cell_type": "code",
   "execution_count": 1,
   "id": "064f2ad8",
   "metadata": {},
   "outputs": [
    {
     "name": "stdout",
     "output_type": "stream",
     "text": [
      "Biogrid Homo Sapiens:\n",
      "  identifier_id identifier_type official_symbol  \\\n",
      "0         57121     ENTREZ_GENE           LPAR5   \n",
      "1        286530     ENTREZ_GENE           P2RY8   \n",
      "2          1956     ENTREZ_GENE            EGFR   \n",
      "3          2122     ENTREZ_GENE           MECOM   \n",
      "4        286204     ENTREZ_GENE            CRB2   \n",
      "\n",
      "                                    aliases organism_official   score_1  \\\n",
      "0                     GPR92GPR93KPG_010LPA5      Homo sapiens  0.788889   \n",
      "1                                      P2Y8      Homo sapiens  0.788793   \n",
      "2              ERBBERBB1HER1NISBD2PIG61mENA      Homo sapiens  0.788784   \n",
      "3  AML1EVI1EVI1KMT8EMDS1MDS1EVI1PRDM3RUSAT2      Homo sapiens  0.788279   \n",
      "4                FSGS9VMCKDFLJ38464FLJ16786      Homo sapiens  0.788260   \n",
      "\n",
      "   score_2  hit  unique_id  \n",
      "0      0.0  YES          1  \n",
      "1      0.0  YES          2  \n",
      "2      0.0  YES          3  \n",
      "3      0.0  YES          4  \n",
      "4      0.0  YES          5  \n",
      "\n",
      "RCSB PDB:\n",
      "  entry_id experimental_method  matthews_coefficient  percent_solvent_content  \\\n",
      "0     6SJZ   X-RAY DIFFRACTION                  2.20                    44.16   \n",
      "1     5C37   X-RAY DIFFRACTION                  2.26                    45.64   \n",
      "2     6NNA   X-RAY DIFFRACTION                  2.26                    45.48   \n",
      "3     7M4C   X-RAY DIFFRACTION                  2.83                    56.57   \n",
      "4     7M4E   X-RAY DIFFRACTION                  2.84                    56.66   \n",
      "\n",
      "          crystallization_method   ph  \\\n",
      "0  VAPOR DIFFUSION, HANGING DROP  5.5   \n",
      "1  VAPOR DIFFUSION, HANGING DROP  8.0   \n",
      "2  VAPOR DIFFUSION, HANGING DROP  7.6   \n",
      "3  VAPOR DIFFUSION, SITTING DROP  7.5   \n",
      "4  VAPOR DIFFUSION, SITTING DROP  7.5   \n",
      "\n",
      "                            crystal_growth_procedure  temp_k deposition_date  \\\n",
      "0  22% PEG6K, 100mM Sodium Citrate pH 5.5, 100mM ...   293.0      2019-08-14   \n",
      "1                                 PEG3350, Tris, KCl   298.0      2015-06-17   \n",
      "2  0.19 M ammonium sulfate, 5 mM sodium cacodylat...   291.0      2019-01-14   \n",
      "3  80-95mM BICINE pH 8.3, 0.3M Na-K Tartrate, 18-...   277.0      2021-03-21   \n",
      "4  80-95mM BICINE pH 8.3, 0.3M Na-K Tartrate, 18-...   277.0      2021-03-21   \n",
      "\n",
      "  release_date  ...  total_polymer_residues_assembly  \\\n",
      "0   2020-03-18  ...                              411   \n",
      "1   2016-06-22  ...                              664   \n",
      "2   2019-02-20  ...                              660   \n",
      "3   2022-07-06  ...                              351   \n",
      "4   2022-07-06  ...                              351   \n",
      "\n",
      "   total_polymer_instances_assembly  oligomeric_count  oligomeric_state  \\\n",
      "0                                 2                 2      Hetero 2-mer   \n",
      "1                                 1                 1           Monomer   \n",
      "2                                 1                 1           Monomer   \n",
      "3                                 4                 4           Monomer   \n",
      "4                                 4                 4           Monomer   \n",
      "\n",
      "   stoichiometry  ligand_id       ligand_formula  ligand_mw  \\\n",
      "0         A1, B1        MYA  C35 H62 N7 O17 P3 S    977.890   \n",
      "1             A1        NDP    C21 H30 N7 O17 P3    745.421   \n",
      "2             A1        NDP    C21 H30 N7 O17 P3    745.421   \n",
      "3             A1        PPV             H4 O7 P2    177.975   \n",
      "4             A1        PPV             H4 O7 P2    177.975   \n",
      "\n",
      "                                         ligand_name  \\\n",
      "0                                  TETRADECANOYL-COA   \n",
      "1  NADPH DIHYDRO-NICOTINAMIDE-ADENINE-DINUCLEOTID...   \n",
      "2  NADPH DIHYDRO-NICOTINAMIDE-ADENINE-DINUCLEOTID...   \n",
      "3                                      PYROPHOSPHATE   \n",
      "4                                      PYROPHOSPHATE   \n",
      "\n",
      "                                               inchi  \n",
      "0  InChI=1S/C35H62N7O17P3S/c1-4-5-6-7-8-9-10-11-1...  \n",
      "1  InChI=1S/C21H30N7O17P3/c22-17-12-19(25-7-24-17...  \n",
      "2  InChI=1S/C21H30N7O17P3/c22-17-12-19(25-7-24-17...  \n",
      "3  InChI=1S/H4O7P2/c1-8(2,3)7-9(4,5)6/h(H2,1,2,3)...  \n",
      "4  InChI=1S/H4O7P2/c1-8(2,3)7-9(4,5)6/h(H2,1,2,3)...  \n",
      "\n",
      "[5 rows x 44 columns]\n"
     ]
    }
   ],
   "source": [
    "# This script designs a basic XGboost model to predict the objective variable HIT. \n",
    "# I will start a process to search for relationships by loading both tables. \n",
    "\n",
    "# Este script disena un modelo XGboost basico para predecir la variable objetiva HIT \n",
    "# Comenzare un proceso para buscar relaciones cargando ambas tablas  \n",
    "\n",
    "import pandas as pd\n",
    "\n",
    "# File paths\n",
    "# Rutas de los archivos\n",
    "path_biogrid = \"C:/Polimeromics/data/exported_data/biogrid_homosapiens.csv\"\n",
    "path_rcsb = \"C:/Polimeromics/data/exported_data/rcsb_pdb.csv\"\n",
    "\n",
    "# Load tables\n",
    "# Cargar las tablas\n",
    "biogrid = pd.read_csv(path_biogrid)\n",
    "rcsb = pd.read_csv(path_rcsb)\n",
    "\n",
    "# Preview of the tables\n",
    "# Vista previa de las tablas\n",
    "print(\"Biogrid Homo Sapiens:\")\n",
    "print(biogrid.head())\n",
    "\n",
    "print(\"\\nRCSB PDB:\")\n",
    "print(rcsb.head())"
   ]
  },
  {
   "cell_type": "code",
   "execution_count": 2,
   "id": "2c557b7e",
   "metadata": {},
   "outputs": [],
   "source": [
    "# Ensure that tables are limited to records related to Homo sapiens:\n",
    "#  Asegurarse que las tablas estén limitadas a los registros relacionados con Homo sapiens: \n",
    "\n",
    "# Filter tables\n",
    "# Filtrar las tablas\n",
    "biogrid_filtered = biogrid[biogrid[\"organism_official\"] == \"Homo sapiens\"]\n",
    "rcsb_filtered = rcsb[rcsb[\"taxonomy_id\"] == 9606]"
   ]
  },
  {
   "cell_type": "code",
   "execution_count": 3,
   "id": "9af68b5d",
   "metadata": {},
   "outputs": [],
   "source": [
    "# Create explicit copies when filtering\n",
    "# Crear copias explícitas al filtrar\n",
    "biogrid_filtered = biogrid[biogrid[\"organism_official\"] == \"Homo sapiens\"].copy()\n",
    "rcsb_filtered = rcsb[rcsb[\"taxonomy_id\"] == 9606].copy()\n",
    "\n",
    "# Normalize columns\n",
    "# Normalizar columnas\n",
    "biogrid_filtered[\"official_symbol\"] = biogrid_filtered[\"official_symbol\"].str.lower().str.strip()\n",
    "rcsb_filtered[\"macromolecule_name\"] = rcsb_filtered[\"macromolecule_name\"].str.lower().str.strip()"
   ]
  },
  {
   "cell_type": "code",
   "execution_count": 4,
   "id": "e3764abd",
   "metadata": {},
   "outputs": [
    {
     "name": "stdout",
     "output_type": "stream",
     "text": [
      "0    lpar5\n",
      "1    p2ry8\n",
      "2     egfr\n",
      "3    mecom\n",
      "4     crb2\n",
      "Name: official_symbol, dtype: object\n",
      "0    glycylpeptide n-tetradecanoyltransferase 1\n",
      "1                           fatty acid synthase\n",
      "2       fatty acid synthase,fatty acid synthase\n",
      "3                         dna polymerase lambda\n",
      "4                         dna polymerase lambda\n",
      "Name: macromolecule_name, dtype: object\n"
     ]
    }
   ],
   "source": [
    "# Verify \n",
    "# Verifico \n",
    "\n",
    "print(biogrid_filtered[\"official_symbol\"].head())\n",
    "print(rcsb_filtered[\"macromolecule_name\"].head())"
   ]
  },
  {
   "cell_type": "code",
   "execution_count": 5,
   "id": "fea3065f",
   "metadata": {
    "scrolled": true
   },
   "outputs": [
    {
     "name": "stdout",
     "output_type": "stream",
     "text": [
      "Número de filas combinadas: 651\n",
      "  identifier_id identifier_type official_symbol           aliases  \\\n",
      "0        147111     ENTREZ_GENE           notum            hNOTUM   \n",
      "1        147111     ENTREZ_GENE           notum            hNOTUM   \n",
      "2         50450     ENTREZ_GENE           furin  FURPACEPCSK3SPC1   \n",
      "3         50450     ENTREZ_GENE           furin  FURPACEPCSK3SPC1   \n",
      "4         50450     ENTREZ_GENE           furin  FURPACEPCSK3SPC1   \n",
      "\n",
      "  organism_official   score_1       score_2  hit  unique_id entry_id  ...  \\\n",
      "0      Homo sapiens  0.324209  3.389869e-10  YES        146     4UZ1  ...   \n",
      "1      Homo sapiens  0.324209  3.389869e-10  YES        146     4UZ5  ...   \n",
      "2      Homo sapiens  1.000000  1.308357e-10  YES       1046     7QXZ  ...   \n",
      "3      Homo sapiens  1.000000  1.308357e-10  YES       1046     8B4V  ...   \n",
      "4      Homo sapiens  1.000000  1.308357e-10  YES       1046     8B4W  ...   \n",
      "\n",
      "  total_polymer_residues_assembly  total_polymer_instances_assembly  \\\n",
      "0                             383                                 1   \n",
      "1                             383                                 1   \n",
      "2                             480                                 1   \n",
      "3                             480                                 1   \n",
      "4                             480                                 1   \n",
      "\n",
      "   oligomeric_count oligomeric_state  stoichiometry ligand_id  ligand_formula  \\\n",
      "0                 1          Monomer             A1       NAG     C8 H15 N O6   \n",
      "1                 1          Monomer             A1       NAG     C8 H15 N O6   \n",
      "2                 1          Monomer             A1        CA              Ca   \n",
      "3                 1          Monomer             A1       BEN        C7 H8 N2   \n",
      "4                 1          Monomer             A1       F05        C8 H8 N2   \n",
      "\n",
      "  ligand_mw                               ligand_name  \\\n",
      "0   221.208  2-acetamido-2-deoxy-beta-D-glucopyranose   \n",
      "1   221.208  2-acetamido-2-deoxy-beta-D-glucopyranose   \n",
      "2    40.078                               CALCIUM ION   \n",
      "3   120.152                               BENZAMIDINE   \n",
      "4   132.163                       1H-isoindol-3-amine   \n",
      "\n",
      "                                               inchi  \n",
      "0  InChI=1S/C8H15NO6/c1-3(11)9-5-7(13)6(12)4(2-10...  \n",
      "1  InChI=1S/C8H15NO6/c1-3(11)9-5-7(13)6(12)4(2-10...  \n",
      "2                                    InChI=1S/Ca/q+2  \n",
      "3  InChI=1S/C7H8N2/c8-7(9)6-4-2-1-3-5-6/h1-5H,(H3...  \n",
      "4  InChI=1S/C8H8N2/c9-8-7-4-2-1-3-6(7)5-10-8/h1-4...  \n",
      "\n",
      "[5 rows x 53 columns]\n"
     ]
    }
   ],
   "source": [
    "# Combine tables based on the standardized columns\n",
    "# Combinar tablas basándose en las columnas normalizadas\n",
    "combined_data = biogrid_filtered.merge(\n",
    "    rcsb_filtered,\n",
    "    left_on=\"official_symbol\",\n",
    "    right_on=\"macromolecule_name\",\n",
    "    how=\"inner\"\n",
    ")\n",
    "# Check the number of combined rows\n",
    "# Verificar el número de filas combinadas\n",
    "print(\"Número de filas combinadas:\", combined_data.shape[0])\n",
    "\n",
    "# Show a sample of the combined data\n",
    "# Mostrar una muestra de los datos combinados\n",
    "print(combined_data.head())\n"
   ]
  },
  {
   "cell_type": "code",
   "execution_count": 6,
   "id": "0ba1b806",
   "metadata": {},
   "outputs": [
    {
     "name": "stdout",
     "output_type": "stream",
     "text": [
      "   score_product  aliases_length  ligand_mw_normalized\n",
      "0   1.099026e-10               6              5.008105\n",
      "1   1.099026e-10               6              5.048106\n",
      "2   1.308357e-10              16              0.757761\n",
      "3   1.308357e-10              16              2.269160\n",
      "4   1.308357e-10              16              2.483800\n"
     ]
    }
   ],
   "source": [
    "# We enrich the data by creating new columns useful for the model:\n",
    "# Enriquecemos los datos creando nuevas columnas útiles para el modelo:\n",
    "\n",
    "# Create new features\n",
    "# Crear nuevas características\n",
    "combined_data[\"score_product\"] = combined_data[\"score_1\"] * combined_data[\"score_2\"]\n",
    "combined_data[\"aliases_length\"] = combined_data[\"aliases\"].str.len()\n",
    "combined_data[\"ligand_mw_normalized\"] = combined_data[\"ligand_mw\"] / combined_data[\"molecular_weight\"]\n",
    "\n",
    "# Verify the new features\n",
    "# Verificar las nuevas características\n",
    "print(combined_data[[\"score_product\", \"aliases_length\", \"ligand_mw_normalized\"]].head())\n"
   ]
  },
  {
   "cell_type": "code",
   "execution_count": 7,
   "id": "a9e413f5",
   "metadata": {},
   "outputs": [
    {
     "name": "stdout",
     "output_type": "stream",
     "text": [
      "Tamaño de X: (651, 5)\n",
      "Tamaño de y: (651,)\n"
     ]
    }
   ],
   "source": [
    "# We select the relevant characteristics and define the target variable hit as 1 for “YES” and 0 for “NO”:\n",
    "# Seleccionamos las características relevantes y definimos la variable objetivo hit como 1 para \"YES\" y 0 para \"NO\":\n",
    "\n",
    "# Selection of characteristics and target variable\n",
    "# Selección de características y variable objetivo\n",
    "X = combined_data[[\n",
    "    \"score_1\", \"score_2\", \"score_product\", \"aliases_length\", \"ligand_mw_normalized\"\n",
    "]]\n",
    "y = combined_data[\"hit\"].apply(lambda x: 1 if x == \"YES\" else 0)\n",
    "\n",
    "# Check dimensions\n",
    "# Verificar dimensiones\n",
    "print(\"Tamaño de X:\", X.shape)\n",
    "print(\"Tamaño de y:\", y.shape)\n"
   ]
  },
  {
   "cell_type": "code",
   "execution_count": 8,
   "id": "95dcc097",
   "metadata": {},
   "outputs": [
    {
     "name": "stdout",
     "output_type": "stream",
     "text": [
      "hit\n",
      "0    473\n",
      "1    178\n",
      "Name: count, dtype: int64\n"
     ]
    }
   ],
   "source": [
    "print(y.value_counts())"
   ]
  },
  {
   "cell_type": "code",
   "execution_count": 9,
   "id": "82516639",
   "metadata": {},
   "outputs": [
    {
     "name": "stdout",
     "output_type": "stream",
     "text": [
      "Distribución después del sobremuestreo: hit\n",
      "1    473\n",
      "0    473\n",
      "Name: count, dtype: int64\n"
     ]
    }
   ],
   "source": [
    "# I apply a balancing technique\n",
    "# Aplico una tecnica de balanceo\n",
    "\n",
    "from imblearn.over_sampling import RandomOverSampler\n",
    "\n",
    "# Oversampling\n",
    "# Sobremuestreo\n",
    "ros = RandomOverSampler(random_state=42)\n",
    "X_balanced, y_balanced = ros.fit_resample(X, y)\n",
    "\n",
    "# Verify distribution of balanced classes\n",
    "# Verificar distribución de clases balanceadas\n",
    "print(\"Distribución después del sobremuestreo:\", y_balanced.value_counts())\n"
   ]
  },
  {
   "cell_type": "code",
   "execution_count": 10,
   "id": "b1887407",
   "metadata": {},
   "outputs": [
    {
     "name": "stdout",
     "output_type": "stream",
     "text": [
      "Tamaño de X_train: (662, 5)\n",
      "Tamaño de X_test: (284, 5)\n",
      "Distribución de y_train: hit\n",
      "1    343\n",
      "0    319\n",
      "Name: count, dtype: int64\n",
      "Distribución de y_test: hit\n",
      "0    154\n",
      "1    130\n",
      "Name: count, dtype: int64\n"
     ]
    }
   ],
   "source": [
    "# We split the data into training and test sets to evaluate model performance:\n",
    "# Dividimos los datos en conjuntos de entrenamiento y prueba para evaluar el rendimiento del modelo:\n",
    "\n",
    "from sklearn.model_selection import train_test_split\n",
    "\n",
    "# Split balanced data\n",
    "# Dividir datos balanceados\n",
    "X_train, X_test, y_train, y_test = train_test_split(X_balanced, y_balanced, test_size=0.3, random_state=42)\n",
    "\n",
    "# Verify sizes of assemblies\n",
    "# Verificar tamaños de los conjuntos\n",
    "print(\"Tamaño de X_train:\", X_train.shape)\n",
    "print(\"Tamaño de X_test:\", X_test.shape)\n",
    "print(\"Distribución de y_train:\", y_train.value_counts())\n",
    "print(\"Distribución de y_test:\", y_test.value_counts())\n"
   ]
  },
  {
   "cell_type": "code",
   "execution_count": 11,
   "id": "23eb2fb9",
   "metadata": {},
   "outputs": [
    {
     "name": "stdout",
     "output_type": "stream",
     "text": [
      "Reporte de clasificación:\n",
      "              precision    recall  f1-score   support\n",
      "\n",
      "           0       1.00      0.98      0.99       154\n",
      "           1       0.98      1.00      0.99       130\n",
      "\n",
      "    accuracy                           0.99       284\n",
      "   macro avg       0.99      0.99      0.99       284\n",
      "weighted avg       0.99      0.99      0.99       284\n",
      "\n",
      "Matriz de confusión:\n",
      "[[151   3]\n",
      " [  0 130]]\n"
     ]
    }
   ],
   "source": [
    "# We train the model using XGBoost, an efficient and robust algorithm:\n",
    "# Entrenamos el modelo utilizando XGBoost, un algoritmo eficiente y robusto:\n",
    "\n",
    "from xgboost import XGBClassifier\n",
    "from sklearn.metrics import classification_report, confusion_matrix\n",
    "\n",
    "# Create and train the model\n",
    "# Crear y entrenar el modelo\n",
    "model = XGBClassifier(random_state=42,  eval_metric=\"logloss\")\n",
    "model.fit(X_train, y_train)\n",
    "\n",
    "# Making predictions on the test set\n",
    "# Hacer predicciones en el conjunto de prueba\n",
    "y_pred = model.predict(X_test)\n",
    "\n",
    "# Evaluating performance\n",
    "# Evaluar el rendimiento\n",
    "print(\"Reporte de clasificación:\")\n",
    "print(classification_report(y_test, y_pred))\n",
    "\n",
    "# Confusion matrix\n",
    "# Matriz de confusión\n",
    "print(\"Matriz de confusión:\")\n",
    "print(confusion_matrix(y_test, y_pred))\n"
   ]
  },
  {
   "cell_type": "code",
   "execution_count": 12,
   "id": "8d42204d",
   "metadata": {},
   "outputs": [
    {
     "name": "stdout",
     "output_type": "stream",
     "text": [
      "Reporte de clasificación ajustado:\n",
      "              precision    recall  f1-score   support\n",
      "\n",
      "           0       0.99      0.98      0.99       154\n",
      "           1       0.98      0.99      0.98       130\n",
      "\n",
      "    accuracy                           0.99       284\n",
      "   macro avg       0.99      0.99      0.99       284\n",
      "weighted avg       0.99      0.99      0.99       284\n",
      "\n"
     ]
    },
    {
     "data": {
      "text/plain": [
       "['C:/Polimeromics/models/xgboost_model.pkl']"
      ]
     },
     "execution_count": 12,
     "metadata": {},
     "output_type": "execute_result"
    }
   ],
   "source": [
    "# Adjusted hyperparameters\n",
    "# Hiperparámetros ajustados\n",
    "model = XGBClassifier(\n",
    "    max_depth=3,  # Reducir complejidad del árbol\n",
    "    min_child_weight=5,  # Evitar hojas con pocos datos\n",
    "    reg_lambda=1,  # Regularización L2\n",
    "    reg_alpha=1,  # Regularización L1\n",
    "    random_state=42,\n",
    "    eval_metric=\"logloss\"\n",
    ")\n",
    "\n",
    "# Retraining\n",
    "# Reentrenar\n",
    "model.fit(X_train, y_train)\n",
    "y_pred = model.predict(X_test)\n",
    "\n",
    "# Reassess performance\n",
    "# Revaluar desempeño\n",
    "from sklearn.metrics import classification_report, confusion_matrix\n",
    "print(\"Reporte de clasificación ajustado:\")\n",
    "print(classification_report(y_test, y_pred))\n",
    "\n",
    "# Save the trained model for XGBoost\n",
    "# Guardar el modelo entrenado para XGBoost\n",
    "import joblib\n",
    "joblib.dump(model, \"C:/Polimeromics/models/xgboost_model.pkl\")"
   ]
  },
  {
   "cell_type": "code",
   "execution_count": 13,
   "id": "ad3d6a27",
   "metadata": {},
   "outputs": [
    {
     "name": "stdout",
     "output_type": "stream",
     "text": [
      "F1-score promedio en validación cruzada: 0.9767383656238682\n"
     ]
    }
   ],
   "source": [
    "from sklearn.model_selection import StratifiedKFold\n",
    "from sklearn.metrics import f1_score\n",
    "\n",
    "# Custom cross validation\n",
    "# Validación cruzada personalizada\n",
    "cv = StratifiedKFold(n_splits=5, shuffle=True, random_state=42)\n",
    "scores = []\n",
    "\n",
    "for train_idx, val_idx in cv.split(X_balanced, y_balanced):\n",
    "    X_train_cv, X_val_cv = X_balanced.iloc[train_idx], X_balanced.iloc[val_idx]\n",
    "    y_train_cv, y_val_cv = y_balanced.iloc[train_idx], y_balanced.iloc[val_idx]\n",
    "    \n",
    "    # Create a new model for each iteration\n",
    "    # Crear un nuevo modelo para cada iteración\n",
    "    model_cv = XGBClassifier(\n",
    "        max_depth=3,\n",
    "        min_child_weight=5,\n",
    "        reg_lambda=1,\n",
    "        reg_alpha=1,\n",
    "        random_state=42,\n",
    "        eval_metric=\"logloss\"\n",
    "    )\n",
    "    model_cv.fit(X_train_cv, y_train_cv)\n",
    "    y_val_pred = model_cv.predict(X_val_cv)\n",
    "    \n",
    "    # Calculate F1-Score for this iteration\n",
    "    # Calcular F1-Score para esta iteración\n",
    "    scores.append(f1_score(y_val_cv, y_val_pred, average='weighted'))\n",
    "\n",
    "# Average F1-Score\n",
    "# Promedio de F1-Score\n",
    "print(\"F1-score promedio en validación cruzada:\", sum(scores) / len(scores))\n"
   ]
  }
 ],
 "metadata": {
  "kernelspec": {
   "display_name": "Python (venv)",
   "language": "python",
   "name": "venv"
  },
  "language_info": {
   "codemirror_mode": {
    "name": "ipython",
    "version": 3
   },
   "file_extension": ".py",
   "mimetype": "text/x-python",
   "name": "python",
   "nbconvert_exporter": "python",
   "pygments_lexer": "ipython3",
   "version": "3.11.0"
  }
 },
 "nbformat": 4,
 "nbformat_minor": 5
}
