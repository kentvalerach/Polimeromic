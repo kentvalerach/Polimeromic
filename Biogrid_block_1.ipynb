{
 "cells": [
  {
   "cell_type": "code",
   "execution_count": 1,
   "id": "d0a478bc",
   "metadata": {},
   "outputs": [
    {
     "name": "stderr",
     "output_type": "stream",
     "text": [
      "C:\\Users\\kentv\\anaconda3\\lib\\site-packages\\pandas\\core\\computation\\expressions.py:21: UserWarning: Pandas requires version '2.8.4' or newer of 'numexpr' (version '2.8.3' currently installed).\n",
      "  from pandas.core.computation.check import NUMEXPR_INSTALLED\n",
      "C:\\Users\\kentv\\anaconda3\\lib\\site-packages\\pandas\\core\\arrays\\masked.py:60: UserWarning: Pandas requires version '1.3.6' or newer of 'bottleneck' (version '1.3.5' currently installed).\n",
      "  from pandas.core import (\n"
     ]
    },
    {
     "name": "stdout",
     "output_type": "stream",
     "text": [
      "Procesando el archivo por chunks...\n",
      "Procesando chunk 1...\n"
     ]
    },
    {
     "name": "stderr",
     "output_type": "stream",
     "text": [
      "C:\\Users\\kentv\\AppData\\Local\\Temp\\ipykernel_14624\\2328396938.py:51: FutureWarning: A value is trying to be set on a copy of a DataFrame or Series through chained assignment using an inplace method.\n",
      "The behavior will change in pandas 3.0. This inplace method will never work because the intermediate object on which we are setting values always behaves as a copy.\n",
      "\n",
      "For example, when doing 'df[col].method(value, inplace=True)', try using 'df.method({col: value}, inplace=True)' or df[col] = df[col].method(value) instead, to perform the operation inplace on the original object.\n",
      "\n",
      "\n",
      "  chunk[column].fillna(median_value, inplace=True)\n",
      "C:\\Users\\kentv\\AppData\\Local\\Temp\\ipykernel_14624\\2328396938.py:72: DtypeWarning: Columns (14) have mixed types. Specify dtype option on import or set low_memory=False.\n",
      "  for i, chunk in enumerate(chunk_iter):\n"
     ]
    },
    {
     "name": "stdout",
     "output_type": "stream",
     "text": [
      "Procesando chunk 2...\n"
     ]
    },
    {
     "name": "stderr",
     "output_type": "stream",
     "text": [
      "C:\\Users\\kentv\\AppData\\Local\\Temp\\ipykernel_14624\\2328396938.py:51: FutureWarning: A value is trying to be set on a copy of a DataFrame or Series through chained assignment using an inplace method.\n",
      "The behavior will change in pandas 3.0. This inplace method will never work because the intermediate object on which we are setting values always behaves as a copy.\n",
      "\n",
      "For example, when doing 'df[col].method(value, inplace=True)', try using 'df.method({col: value}, inplace=True)' or df[col] = df[col].method(value) instead, to perform the operation inplace on the original object.\n",
      "\n",
      "\n",
      "  chunk[column].fillna(median_value, inplace=True)\n",
      "C:\\Users\\kentv\\AppData\\Local\\Temp\\ipykernel_14624\\2328396938.py:51: FutureWarning: A value is trying to be set on a copy of a DataFrame or Series through chained assignment using an inplace method.\n",
      "The behavior will change in pandas 3.0. This inplace method will never work because the intermediate object on which we are setting values always behaves as a copy.\n",
      "\n",
      "For example, when doing 'df[col].method(value, inplace=True)', try using 'df.method({col: value}, inplace=True)' or df[col] = df[col].method(value) instead, to perform the operation inplace on the original object.\n",
      "\n",
      "\n",
      "  chunk[column].fillna(median_value, inplace=True)\n",
      "C:\\Users\\kentv\\AppData\\Local\\Temp\\ipykernel_14624\\2328396938.py:51: FutureWarning: A value is trying to be set on a copy of a DataFrame or Series through chained assignment using an inplace method.\n",
      "The behavior will change in pandas 3.0. This inplace method will never work because the intermediate object on which we are setting values always behaves as a copy.\n",
      "\n",
      "For example, when doing 'df[col].method(value, inplace=True)', try using 'df.method({col: value}, inplace=True)' or df[col] = df[col].method(value) instead, to perform the operation inplace on the original object.\n",
      "\n",
      "\n",
      "  chunk[column].fillna(median_value, inplace=True)\n",
      "C:\\Users\\kentv\\AppData\\Local\\Temp\\ipykernel_14624\\2328396938.py:51: FutureWarning: A value is trying to be set on a copy of a DataFrame or Series through chained assignment using an inplace method.\n",
      "The behavior will change in pandas 3.0. This inplace method will never work because the intermediate object on which we are setting values always behaves as a copy.\n",
      "\n",
      "For example, when doing 'df[col].method(value, inplace=True)', try using 'df.method({col: value}, inplace=True)' or df[col] = df[col].method(value) instead, to perform the operation inplace on the original object.\n",
      "\n",
      "\n",
      "  chunk[column].fillna(median_value, inplace=True)\n",
      "C:\\Users\\kentv\\AppData\\Local\\Temp\\ipykernel_14624\\2328396938.py:72: DtypeWarning: Columns (14,18,19) have mixed types. Specify dtype option on import or set low_memory=False.\n",
      "  for i, chunk in enumerate(chunk_iter):\n"
     ]
    },
    {
     "name": "stdout",
     "output_type": "stream",
     "text": [
      "Procesando chunk 3...\n"
     ]
    },
    {
     "name": "stderr",
     "output_type": "stream",
     "text": [
      "C:\\Users\\kentv\\AppData\\Local\\Temp\\ipykernel_14624\\2328396938.py:51: FutureWarning: A value is trying to be set on a copy of a DataFrame or Series through chained assignment using an inplace method.\n",
      "The behavior will change in pandas 3.0. This inplace method will never work because the intermediate object on which we are setting values always behaves as a copy.\n",
      "\n",
      "For example, when doing 'df[col].method(value, inplace=True)', try using 'df.method({col: value}, inplace=True)' or df[col] = df[col].method(value) instead, to perform the operation inplace on the original object.\n",
      "\n",
      "\n",
      "  chunk[column].fillna(median_value, inplace=True)\n",
      "C:\\Users\\kentv\\AppData\\Local\\Temp\\ipykernel_14624\\2328396938.py:51: FutureWarning: A value is trying to be set on a copy of a DataFrame or Series through chained assignment using an inplace method.\n",
      "The behavior will change in pandas 3.0. This inplace method will never work because the intermediate object on which we are setting values always behaves as a copy.\n",
      "\n",
      "For example, when doing 'df[col].method(value, inplace=True)', try using 'df.method({col: value}, inplace=True)' or df[col] = df[col].method(value) instead, to perform the operation inplace on the original object.\n",
      "\n",
      "\n",
      "  chunk[column].fillna(median_value, inplace=True)\n",
      "C:\\Users\\kentv\\AppData\\Local\\Temp\\ipykernel_14624\\2328396938.py:51: FutureWarning: A value is trying to be set on a copy of a DataFrame or Series through chained assignment using an inplace method.\n",
      "The behavior will change in pandas 3.0. This inplace method will never work because the intermediate object on which we are setting values always behaves as a copy.\n",
      "\n",
      "For example, when doing 'df[col].method(value, inplace=True)', try using 'df.method({col: value}, inplace=True)' or df[col] = df[col].method(value) instead, to perform the operation inplace on the original object.\n",
      "\n",
      "\n",
      "  chunk[column].fillna(median_value, inplace=True)\n",
      "C:\\Users\\kentv\\AppData\\Local\\Temp\\ipykernel_14624\\2328396938.py:51: FutureWarning: A value is trying to be set on a copy of a DataFrame or Series through chained assignment using an inplace method.\n",
      "The behavior will change in pandas 3.0. This inplace method will never work because the intermediate object on which we are setting values always behaves as a copy.\n",
      "\n",
      "For example, when doing 'df[col].method(value, inplace=True)', try using 'df.method({col: value}, inplace=True)' or df[col] = df[col].method(value) instead, to perform the operation inplace on the original object.\n",
      "\n",
      "\n",
      "  chunk[column].fillna(median_value, inplace=True)\n",
      "C:\\Users\\kentv\\AppData\\Local\\Temp\\ipykernel_14624\\2328396938.py:72: DtypeWarning: Columns (20,21,22,23,26,28,29,30,31,32,33,34,35,36,37,39,40,41,42,43,44,45,47,48,49,50,51,52,53) have mixed types. Specify dtype option on import or set low_memory=False.\n",
      "  for i, chunk in enumerate(chunk_iter):\n"
     ]
    },
    {
     "name": "stdout",
     "output_type": "stream",
     "text": [
      "Procesando chunk 4...\n"
     ]
    },
    {
     "name": "stderr",
     "output_type": "stream",
     "text": [
      "C:\\Users\\kentv\\AppData\\Local\\Temp\\ipykernel_14624\\2328396938.py:51: FutureWarning: A value is trying to be set on a copy of a DataFrame or Series through chained assignment using an inplace method.\n",
      "The behavior will change in pandas 3.0. This inplace method will never work because the intermediate object on which we are setting values always behaves as a copy.\n",
      "\n",
      "For example, when doing 'df[col].method(value, inplace=True)', try using 'df.method({col: value}, inplace=True)' or df[col] = df[col].method(value) instead, to perform the operation inplace on the original object.\n",
      "\n",
      "\n",
      "  chunk[column].fillna(median_value, inplace=True)\n",
      "C:\\Users\\kentv\\AppData\\Local\\Temp\\ipykernel_14624\\2328396938.py:51: FutureWarning: A value is trying to be set on a copy of a DataFrame or Series through chained assignment using an inplace method.\n",
      "The behavior will change in pandas 3.0. This inplace method will never work because the intermediate object on which we are setting values always behaves as a copy.\n",
      "\n",
      "For example, when doing 'df[col].method(value, inplace=True)', try using 'df.method({col: value}, inplace=True)' or df[col] = df[col].method(value) instead, to perform the operation inplace on the original object.\n",
      "\n",
      "\n",
      "  chunk[column].fillna(median_value, inplace=True)\n"
     ]
    },
    {
     "name": "stdout",
     "output_type": "stream",
     "text": [
      "Procesando chunk 5...\n",
      "Procesando chunk 6...\n"
     ]
    },
    {
     "name": "stderr",
     "output_type": "stream",
     "text": [
      "C:\\Users\\kentv\\AppData\\Local\\Temp\\ipykernel_14624\\2328396938.py:51: FutureWarning: A value is trying to be set on a copy of a DataFrame or Series through chained assignment using an inplace method.\n",
      "The behavior will change in pandas 3.0. This inplace method will never work because the intermediate object on which we are setting values always behaves as a copy.\n",
      "\n",
      "For example, when doing 'df[col].method(value, inplace=True)', try using 'df.method({col: value}, inplace=True)' or df[col] = df[col].method(value) instead, to perform the operation inplace on the original object.\n",
      "\n",
      "\n",
      "  chunk[column].fillna(median_value, inplace=True)\n"
     ]
    },
    {
     "name": "stdout",
     "output_type": "stream",
     "text": [
      "Procesando chunk 7...\n",
      "Procesando chunk 8...\n"
     ]
    },
    {
     "name": "stderr",
     "output_type": "stream",
     "text": [
      "C:\\Users\\kentv\\AppData\\Local\\Temp\\ipykernel_14624\\2328396938.py:51: FutureWarning: A value is trying to be set on a copy of a DataFrame or Series through chained assignment using an inplace method.\n",
      "The behavior will change in pandas 3.0. This inplace method will never work because the intermediate object on which we are setting values always behaves as a copy.\n",
      "\n",
      "For example, when doing 'df[col].method(value, inplace=True)', try using 'df.method({col: value}, inplace=True)' or df[col] = df[col].method(value) instead, to perform the operation inplace on the original object.\n",
      "\n",
      "\n",
      "  chunk[column].fillna(median_value, inplace=True)\n"
     ]
    },
    {
     "name": "stdout",
     "output_type": "stream",
     "text": [
      "Procesando chunk 9...\n",
      "Procesando chunk 10...\n",
      "Procesando chunk 11...\n",
      "Procesando chunk 12...\n",
      "Procesando chunk 13...\n",
      "Procesando chunk 14...\n"
     ]
    },
    {
     "name": "stderr",
     "output_type": "stream",
     "text": [
      "C:\\Users\\kentv\\AppData\\Local\\Temp\\ipykernel_14624\\2328396938.py:72: DtypeWarning: Columns (1) have mixed types. Specify dtype option on import or set low_memory=False.\n",
      "  for i, chunk in enumerate(chunk_iter):\n"
     ]
    },
    {
     "name": "stdout",
     "output_type": "stream",
     "text": [
      "Procesando chunk 15...\n",
      "Procesando chunk 16...\n",
      "Procesando chunk 17...\n",
      "Procesando chunk 18...\n"
     ]
    },
    {
     "name": "stderr",
     "output_type": "stream",
     "text": [
      "C:\\Users\\kentv\\AppData\\Local\\Temp\\ipykernel_14624\\2328396938.py:72: DtypeWarning: Columns (1) have mixed types. Specify dtype option on import or set low_memory=False.\n",
      "  for i, chunk in enumerate(chunk_iter):\n"
     ]
    },
    {
     "name": "stdout",
     "output_type": "stream",
     "text": [
      "Procesando chunk 19...\n",
      "Procesando chunk 20...\n",
      "Procesando chunk 21...\n",
      "Procesando chunk 22...\n"
     ]
    },
    {
     "name": "stderr",
     "output_type": "stream",
     "text": [
      "C:\\Users\\kentv\\AppData\\Local\\Temp\\ipykernel_14624\\2328396938.py:72: DtypeWarning: Columns (1) have mixed types. Specify dtype option on import or set low_memory=False.\n",
      "  for i, chunk in enumerate(chunk_iter):\n"
     ]
    },
    {
     "name": "stdout",
     "output_type": "stream",
     "text": [
      "Procesando chunk 23...\n"
     ]
    },
    {
     "name": "stderr",
     "output_type": "stream",
     "text": [
      "C:\\Users\\kentv\\AppData\\Local\\Temp\\ipykernel_14624\\2328396938.py:72: DtypeWarning: Columns (1) have mixed types. Specify dtype option on import or set low_memory=False.\n",
      "  for i, chunk in enumerate(chunk_iter):\n"
     ]
    },
    {
     "name": "stdout",
     "output_type": "stream",
     "text": [
      "Procesando chunk 24...\n",
      "Procesando chunk 25...\n"
     ]
    },
    {
     "name": "stderr",
     "output_type": "stream",
     "text": [
      "C:\\Users\\kentv\\AppData\\Local\\Temp\\ipykernel_14624\\2328396938.py:72: DtypeWarning: Columns (1) have mixed types. Specify dtype option on import or set low_memory=False.\n",
      "  for i, chunk in enumerate(chunk_iter):\n"
     ]
    },
    {
     "name": "stdout",
     "output_type": "stream",
     "text": [
      "Procesando chunk 26...\n"
     ]
    },
    {
     "name": "stderr",
     "output_type": "stream",
     "text": [
      "C:\\Users\\kentv\\AppData\\Local\\Temp\\ipykernel_14624\\2328396938.py:72: DtypeWarning: Columns (1) have mixed types. Specify dtype option on import or set low_memory=False.\n",
      "  for i, chunk in enumerate(chunk_iter):\n"
     ]
    },
    {
     "name": "stdout",
     "output_type": "stream",
     "text": [
      "Procesando chunk 27...\n"
     ]
    },
    {
     "name": "stderr",
     "output_type": "stream",
     "text": [
      "C:\\Users\\kentv\\AppData\\Local\\Temp\\ipykernel_14624\\2328396938.py:51: FutureWarning: A value is trying to be set on a copy of a DataFrame or Series through chained assignment using an inplace method.\n",
      "The behavior will change in pandas 3.0. This inplace method will never work because the intermediate object on which we are setting values always behaves as a copy.\n",
      "\n",
      "For example, when doing 'df[col].method(value, inplace=True)', try using 'df.method({col: value}, inplace=True)' or df[col] = df[col].method(value) instead, to perform the operation inplace on the original object.\n",
      "\n",
      "\n",
      "  chunk[column].fillna(median_value, inplace=True)\n"
     ]
    },
    {
     "name": "stdout",
     "output_type": "stream",
     "text": [
      "Procesando chunk 28...\n"
     ]
    },
    {
     "name": "stderr",
     "output_type": "stream",
     "text": [
      "C:\\Users\\kentv\\AppData\\Local\\Temp\\ipykernel_14624\\2328396938.py:51: FutureWarning: A value is trying to be set on a copy of a DataFrame or Series through chained assignment using an inplace method.\n",
      "The behavior will change in pandas 3.0. This inplace method will never work because the intermediate object on which we are setting values always behaves as a copy.\n",
      "\n",
      "For example, when doing 'df[col].method(value, inplace=True)', try using 'df.method({col: value}, inplace=True)' or df[col] = df[col].method(value) instead, to perform the operation inplace on the original object.\n",
      "\n",
      "\n",
      "  chunk[column].fillna(median_value, inplace=True)\n",
      "C:\\Users\\kentv\\AppData\\Local\\Temp\\ipykernel_14624\\2328396938.py:72: DtypeWarning: Columns (1) have mixed types. Specify dtype option on import or set low_memory=False.\n",
      "  for i, chunk in enumerate(chunk_iter):\n"
     ]
    },
    {
     "name": "stdout",
     "output_type": "stream",
     "text": [
      "Procesando chunk 29...\n",
      "Procesando chunk 30...\n"
     ]
    },
    {
     "name": "stderr",
     "output_type": "stream",
     "text": [
      "C:\\Users\\kentv\\AppData\\Local\\Temp\\ipykernel_14624\\2328396938.py:72: DtypeWarning: Columns (1) have mixed types. Specify dtype option on import or set low_memory=False.\n",
      "  for i, chunk in enumerate(chunk_iter):\n"
     ]
    },
    {
     "name": "stdout",
     "output_type": "stream",
     "text": [
      "Procesando chunk 31...\n"
     ]
    },
    {
     "name": "stderr",
     "output_type": "stream",
     "text": [
      "C:\\Users\\kentv\\AppData\\Local\\Temp\\ipykernel_14624\\2328396938.py:72: DtypeWarning: Columns (1) have mixed types. Specify dtype option on import or set low_memory=False.\n",
      "  for i, chunk in enumerate(chunk_iter):\n"
     ]
    },
    {
     "name": "stdout",
     "output_type": "stream",
     "text": [
      "Procesando chunk 32...\n"
     ]
    },
    {
     "name": "stderr",
     "output_type": "stream",
     "text": [
      "C:\\Users\\kentv\\AppData\\Local\\Temp\\ipykernel_14624\\2328396938.py:72: DtypeWarning: Columns (1) have mixed types. Specify dtype option on import or set low_memory=False.\n",
      "  for i, chunk in enumerate(chunk_iter):\n"
     ]
    },
    {
     "name": "stdout",
     "output_type": "stream",
     "text": [
      "Procesando chunk 33...\n"
     ]
    },
    {
     "name": "stderr",
     "output_type": "stream",
     "text": [
      "C:\\Users\\kentv\\AppData\\Local\\Temp\\ipykernel_14624\\2328396938.py:72: DtypeWarning: Columns (1) have mixed types. Specify dtype option on import or set low_memory=False.\n",
      "  for i, chunk in enumerate(chunk_iter):\n"
     ]
    },
    {
     "name": "stdout",
     "output_type": "stream",
     "text": [
      "Procesando chunk 34...\n"
     ]
    },
    {
     "name": "stderr",
     "output_type": "stream",
     "text": [
      "C:\\Users\\kentv\\AppData\\Local\\Temp\\ipykernel_14624\\2328396938.py:72: DtypeWarning: Columns (1) have mixed types. Specify dtype option on import or set low_memory=False.\n",
      "  for i, chunk in enumerate(chunk_iter):\n"
     ]
    },
    {
     "name": "stdout",
     "output_type": "stream",
     "text": [
      "Procesando chunk 35...\n"
     ]
    },
    {
     "name": "stderr",
     "output_type": "stream",
     "text": [
      "C:\\Users\\kentv\\AppData\\Local\\Temp\\ipykernel_14624\\2328396938.py:72: DtypeWarning: Columns (1) have mixed types. Specify dtype option on import or set low_memory=False.\n",
      "  for i, chunk in enumerate(chunk_iter):\n"
     ]
    },
    {
     "name": "stdout",
     "output_type": "stream",
     "text": [
      "Procesando chunk 36...\n",
      "Procesando chunk 37...\n"
     ]
    },
    {
     "name": "stderr",
     "output_type": "stream",
     "text": [
      "C:\\Users\\kentv\\AppData\\Local\\Temp\\ipykernel_14624\\2328396938.py:72: DtypeWarning: Columns (1) have mixed types. Specify dtype option on import or set low_memory=False.\n",
      "  for i, chunk in enumerate(chunk_iter):\n"
     ]
    },
    {
     "name": "stdout",
     "output_type": "stream",
     "text": [
      "Procesando chunk 38...\n",
      "Procesando chunk 39...\n"
     ]
    },
    {
     "name": "stderr",
     "output_type": "stream",
     "text": [
      "C:\\Users\\kentv\\AppData\\Local\\Temp\\ipykernel_14624\\2328396938.py:51: FutureWarning: A value is trying to be set on a copy of a DataFrame or Series through chained assignment using an inplace method.\n",
      "The behavior will change in pandas 3.0. This inplace method will never work because the intermediate object on which we are setting values always behaves as a copy.\n",
      "\n",
      "For example, when doing 'df[col].method(value, inplace=True)', try using 'df.method({col: value}, inplace=True)' or df[col] = df[col].method(value) instead, to perform the operation inplace on the original object.\n",
      "\n",
      "\n",
      "  chunk[column].fillna(median_value, inplace=True)\n",
      "C:\\Users\\kentv\\AppData\\Local\\Temp\\ipykernel_14624\\2328396938.py:72: DtypeWarning: Columns (1) have mixed types. Specify dtype option on import or set low_memory=False.\n",
      "  for i, chunk in enumerate(chunk_iter):\n"
     ]
    },
    {
     "name": "stdout",
     "output_type": "stream",
     "text": [
      "Procesando chunk 40...\n"
     ]
    },
    {
     "name": "stderr",
     "output_type": "stream",
     "text": [
      "C:\\Users\\kentv\\AppData\\Local\\Temp\\ipykernel_14624\\2328396938.py:72: DtypeWarning: Columns (1) have mixed types. Specify dtype option on import or set low_memory=False.\n",
      "  for i, chunk in enumerate(chunk_iter):\n"
     ]
    },
    {
     "name": "stdout",
     "output_type": "stream",
     "text": [
      "Procesando chunk 41...\n"
     ]
    },
    {
     "name": "stderr",
     "output_type": "stream",
     "text": [
      "C:\\Users\\kentv\\AppData\\Local\\Temp\\ipykernel_14624\\2328396938.py:72: DtypeWarning: Columns (1) have mixed types. Specify dtype option on import or set low_memory=False.\n",
      "  for i, chunk in enumerate(chunk_iter):\n"
     ]
    },
    {
     "name": "stdout",
     "output_type": "stream",
     "text": [
      "Procesando chunk 42...\n"
     ]
    },
    {
     "name": "stderr",
     "output_type": "stream",
     "text": [
      "C:\\Users\\kentv\\AppData\\Local\\Temp\\ipykernel_14624\\2328396938.py:72: DtypeWarning: Columns (1) have mixed types. Specify dtype option on import or set low_memory=False.\n",
      "  for i, chunk in enumerate(chunk_iter):\n"
     ]
    },
    {
     "name": "stdout",
     "output_type": "stream",
     "text": [
      "Procesando chunk 43...\n"
     ]
    },
    {
     "name": "stderr",
     "output_type": "stream",
     "text": [
      "C:\\Users\\kentv\\AppData\\Local\\Temp\\ipykernel_14624\\2328396938.py:72: DtypeWarning: Columns (1) have mixed types. Specify dtype option on import or set low_memory=False.\n",
      "  for i, chunk in enumerate(chunk_iter):\n"
     ]
    },
    {
     "name": "stdout",
     "output_type": "stream",
     "text": [
      "Procesando chunk 44...\n",
      "Procesando chunk 45...\n"
     ]
    },
    {
     "name": "stderr",
     "output_type": "stream",
     "text": [
      "C:\\Users\\kentv\\AppData\\Local\\Temp\\ipykernel_14624\\2328396938.py:72: DtypeWarning: Columns (1) have mixed types. Specify dtype option on import or set low_memory=False.\n",
      "  for i, chunk in enumerate(chunk_iter):\n"
     ]
    },
    {
     "name": "stdout",
     "output_type": "stream",
     "text": [
      "Procesando chunk 46...\n"
     ]
    },
    {
     "name": "stderr",
     "output_type": "stream",
     "text": [
      "C:\\Users\\kentv\\AppData\\Local\\Temp\\ipykernel_14624\\2328396938.py:72: DtypeWarning: Columns (1) have mixed types. Specify dtype option on import or set low_memory=False.\n",
      "  for i, chunk in enumerate(chunk_iter):\n"
     ]
    },
    {
     "name": "stdout",
     "output_type": "stream",
     "text": [
      "Procesando chunk 47...\n"
     ]
    },
    {
     "name": "stderr",
     "output_type": "stream",
     "text": [
      "C:\\Users\\kentv\\AppData\\Local\\Temp\\ipykernel_14624\\2328396938.py:72: DtypeWarning: Columns (1) have mixed types. Specify dtype option on import or set low_memory=False.\n",
      "  for i, chunk in enumerate(chunk_iter):\n"
     ]
    },
    {
     "name": "stdout",
     "output_type": "stream",
     "text": [
      "Procesando chunk 48...\n"
     ]
    },
    {
     "name": "stderr",
     "output_type": "stream",
     "text": [
      "C:\\Users\\kentv\\AppData\\Local\\Temp\\ipykernel_14624\\2328396938.py:72: DtypeWarning: Columns (1) have mixed types. Specify dtype option on import or set low_memory=False.\n",
      "  for i, chunk in enumerate(chunk_iter):\n"
     ]
    },
    {
     "name": "stdout",
     "output_type": "stream",
     "text": [
      "Procesando chunk 49...\n",
      "Procesando chunk 50...\n",
      "Archivo limpio guardado en C:/Polimeromics/data/BIOGRID-CSV/cleaned_blocks/cleaned_block_1_validated.csv\n"
     ]
    }
   ],
   "source": [
    "# Cleanup of the first block of the BIOGRID file while preserving compatibility for merging.\n",
    "# A chunk by chunk cleanup will be performed to avoid memory problems.\n",
    "# File path size 701MB\n",
    "\n",
    "# Limpieza del primer bloque del archivo BIOGRID conservanndo compatibilidad para fusion\n",
    "# Se realizara una limpieza por chunk para evitar problemas de memoria.\n",
    "# El tamano del archivo es de 701MB\n",
    "\n",
    "import pandas as pd\n",
    "\n",
    "# Original and output file path\n",
    "# Ruta del archivo original y de salida\n",
    "input_file = r'C:/Polimeromics/data/BIOGRID-CSV/cleaned_blocks/cleaned_block_1.csv'\n",
    "output_file = r'C:/Polimeromics/data/BIOGRID-CSV/cleaned_blocks/cleaned_block_1_validated.csv'\n",
    "\n",
    "# Chunk size (number of rows per chunk)\n",
    "# Tamaño del chunk (número de filas por chunk)\n",
    "chunk_size = 100000\n",
    "\n",
    "# Create an empty file to save the results\n",
    "# Crear un archivo vacío para guardar los resultados\n",
    "with open(output_file, 'w') as f:\n",
    "    pass\n",
    "\n",
    "# Function to process each chunk\n",
    "# Función para procesar cada chunk\n",
    "def process_chunk(chunk):\n",
    "    \n",
    "    # Step 1: Elimination of duplicates within the chunk\n",
    "    # Paso 1: Eliminación de duplicados dentro del chunk\n",
    "    chunk.drop_duplicates(inplace=True)\n",
    "\n",
    "    # Step 2: Removal of irrelevant columns\n",
    "    # Paso 2: Eliminación de columnas irrelevantes\n",
    "    # Estas columnas deberían ser ajustadas según el análisis\n",
    "    columns_to_drop = ['Column1', 'Column2']  # Sustituir con nombres reales si se identifican columnas irrelevantes\n",
    "    chunk.drop(columns=columns_to_drop, inplace=True, errors='ignore')\n",
    "\n",
    "    # Step 3: Treatment of null values\n",
    "    # Paso 3: Tratamiento de valores nulos\n",
    "    # If a column has more than 50% of null values, delete it\n",
    "    # Si una columna tiene más del 50% de valores nulos, eliminarla\n",
    "    null_threshold = 0.5\n",
    "    cols_to_remove = chunk.columns[chunk.isnull().mean() > null_threshold]\n",
    "    chunk.drop(columns=cols_to_remove, inplace=True)\n",
    "    # For the other columns, fill in the median if it is numeric.\n",
    "    # Para las demás columnas, rellenar con la mediana si es numérica\n",
    "    for column in chunk.select_dtypes(include=['float64', 'int64']):\n",
    "        if chunk[column].isnull().sum() > 0:\n",
    "            median_value = chunk[column].median()\n",
    "            chunk[column].fillna(median_value, inplace=True)\n",
    "    \n",
    "    # Step 4: Elimination of special characters\n",
    "    # Paso 4: Eliminación de caracteres especiales\n",
    "    # Aplicado solo a columnas de texto / # Applied only to text columns\n",
    "    text_columns = chunk.select_dtypes(include=['object']).columns\n",
    "    for column in text_columns:\n",
    "        chunk[column] = chunk[column].str.replace(r'[^\\w\\s]', '', regex=True)\n",
    "    \n",
    "    # Step 5: Conversion from scientific notation to full numerical form\n",
    "    # Paso 5: Conversión de notación científica a forma numérica completa\n",
    "    for column in chunk.select_dtypes(include=['float64', 'int64']):\n",
    "        chunk[column] = chunk[column].apply(lambda x: f'{x:.6f}' if isinstance(x, (int, float)) else x)\n",
    "\n",
    "    return chunk\n",
    "\n",
    "# Process the file in chunks\n",
    "# Procesar el archivo en chunks\n",
    "print(\"Procesando el archivo por chunks...\")\n",
    "chunk_iter = pd.read_csv(input_file, chunksize=chunk_size)\n",
    "\n",
    "for i, chunk in enumerate(chunk_iter):\n",
    "    print(f\"Procesando chunk {i + 1}...\")\n",
    "    processed_chunk = process_chunk(chunk)\n",
    "\n",
    "    # Save the processed chunk in the output file\n",
    "    # Guardar el chunk procesado en el archivo de salida\n",
    "    if i == 0:\n",
    "        processed_chunk.to_csv(output_file, index=False, mode='w')  # Crear el archivo con encabezados\n",
    "    else:\n",
    "        processed_chunk.to_csv(output_file, index=False, mode='a', header=False)  # Append sin encabezados\n",
    "\n",
    "print(f\"Archivo limpio guardado en {output_file}\")\n",
    "\n"
   ]
  },
  {
   "cell_type": "code",
   "execution_count": 2,
   "id": "766a5fe1",
   "metadata": {},
   "outputs": [
    {
     "name": "stdout",
     "output_type": "stream",
     "text": [
      "Generando reporte de validación...\n",
      "Reporte de validación guardado en C:/Polimeromics/data/BIOGRID-CSV/cleaned_blocks/cleaned_block_1_validation_report.txt\n"
     ]
    }
   ],
   "source": [
    "# I want to do a validation of this new file and generate the report. \n",
    "# Quiero hacer una validacion de este nuevo archivo y generar el reporte \n",
    "\n",
    "# Path of the file to validate\n",
    "# Ruta del archivo a validar\n",
    "validated_file = r'C:/Polimeromics/data/BIOGRID-CSV/cleaned_blocks/cleaned_block_1_validated.csv'\n",
    "report_file = r'C:/Polimeromics/data/BIOGRID-CSV/cleaned_blocks/cleaned_block_1_validation_report.txt'\n",
    "\n",
    "# Read the validated file\n",
    "# Leer el archivo validado\n",
    "print(\"Generando reporte de validación...\")\n",
    "data = pd.read_csv(validated_file, low_memory=False, dtype=str)\n",
    "\n",
    "# Initialize validation report\n",
    "# Inicializar reporte de validación\n",
    "report = []\n",
    "\n",
    "# Step 1: General file information\n",
    "# Paso 1: Información general del archivo\n",
    "report.append(\"=== Información general ===\")\n",
    "report.append(f\"Número de filas: {data.shape[0]}\")\n",
    "report.append(f\"Número de columnas: {data.shape[1]}\")\n",
    "\n",
    "# Step 2: Data types and columns\n",
    "# Paso 2: Tipos de datos y columnas\n",
    "report.append(\"\\n=== Tipos de datos y columnas ===\")\n",
    "report.append(data.dtypes.to_string())\n",
    "\n",
    "# Step 3: Check duplicates\n",
    "# Paso 3: Revisar duplicados\n",
    "duplicates_count = data.duplicated().sum()\n",
    "report.append(f\"Duplicados: {duplicates_count}\")\n",
    "\n",
    "# Step 4: Null values\n",
    "# Paso 4: Valores nulos\n",
    "null_summary = data.isnull().sum()\n",
    "columns_with_nulls = null_summary[null_summary > 0]\n",
    "report.append(\"\\nColumnas con valores nulos:\")\n",
    "report.extend([f\"{col}: {count}\" for col, count in columns_with_nulls.items()])\n",
    "\n",
    "# Step 5: Check empty or irrelevant columns\n",
    "# Paso 5: Revisar columnas vacías o irrelevantes\n",
    "empty_columns = [col for col in data.columns if data[col].count() == 0]\n",
    "report.append(f\"\\nColumnas vacías: {', '.join(empty_columns) if empty_columns else 'Ninguna'}\")\n",
    "\n",
    "# Step 6: Check special characters in text columns\n",
    "# Paso 6: Revisar caracteres especiales en columnas de texto\n",
    "text_columns = data.select_dtypes(include=['object']).columns\n",
    "special_char_columns = {}\n",
    "for col in text_columns:\n",
    "    if data[col].str.contains(r'[^\\w\\s]', regex=True, na=False).any():\n",
    "        special_char_columns[col] = data[col].str.contains(r'[^\\w\\s]', regex=True, na=False).sum()\n",
    "\n",
    "if special_char_columns:\n",
    "    report.append(\"\\nColumnas con caracteres especiales:\")\n",
    "    report.extend([f\"{col}: {count}\" for col, count in special_char_columns.items()])\n",
    "else:\n",
    "    report.append(\"\\nNo se encontraron caracteres especiales.\")\n",
    "\n",
    "# Step 7: Check numerical formatting and limits\n",
    "# Paso 7: Revisar formato numérico y límites\n",
    "numeric_columns = data.select_dtypes(include=['float64', 'int64']).columns\n",
    "long_numeric_columns = {}\n",
    "for col in numeric_columns:\n",
    "    if (data[col].astype(str).str.len() > 30).any():\n",
    "        long_numeric_columns[col] = (data[col].astype(str).str.len() > 30).sum()\n",
    "\n",
    "if long_numeric_columns:\n",
    "    report.append(\"\\nColumnas con valores numéricos demasiado largos:\")\n",
    "    report.extend([f\"{col}: {count}\" for col, count in long_numeric_columns.items()])\n",
    "else:\n",
    "    report.append(\"\\nTodos los valores numéricos están dentro del límite de 30 caracteres.\")\n",
    "\n",
    "# Step 8: Verify data expansion after cleaning\n",
    "# Paso 8: Verificar expansión de datos tras la limpieza\n",
    "original_size_mb = 700  # Tamaño original en MB\n",
    "validated_size_mb = data.memory_usage(index=True).sum() / (1024 ** 2)\n",
    "report.append(f\"\\nTamaño original estimado: {original_size_mb} MB\")\n",
    "report.append(f\"Tamaño tras la limpieza: {validated_size_mb:.2f} MB\")\n",
    "\n",
    "# Save report\n",
    "# Guardar reporte\n",
    "with open(report_file, 'w') as file:\n",
    "    file.write(\"\\n\".join(report))\n",
    "\n",
    "print(f\"Reporte de validación guardado en {report_file}\")\n"
   ]
  },
  {
   "cell_type": "code",
   "execution_count": 3,
   "id": "75bb4a90",
   "metadata": {},
   "outputs": [
    {
     "name": "stdout",
     "output_type": "stream",
     "text": [
      "Cargando el archivo para limpieza...\n",
      "Eliminando duplicados...\n",
      "Imputando valores para 'IDENTIFIER_ID'...\n",
      "Eliminando caracteres especiales de columnas de texto...\n",
      "Manejando valores nulos...\n",
      "Columnas eliminadas por exceso de nulos (>50%): ['SOURCE']\n",
      "Realizando verificaciones adicionales...\n",
      "Guardando el archivo limpio...\n",
      "Archivo procesado y guardado en C:/Polimeromics/data/BIOGRID-CSV/cleaned_blocks/cleaned_block_1_final.csv\n"
     ]
    }
   ],
   "source": [
    "# I have 3.745.943 null values I will sort out ideas to follow a cleaning plan\n",
    "# Tengo 3.745.943 valores nulos voy a ordenar ideas para seguir un plan de limpieza\n",
    "\n",
    "# Path of the file to be processed\n",
    "# Ruta del archivo a procesar\n",
    "input_file = r'C:/Polimeromics/data/BIOGRID-CSV/cleaned_blocks/cleaned_block_1_validated.csv'\n",
    "output_file = r'C:/Polimeromics/data/BIOGRID-CSV/cleaned_blocks/cleaned_block_1_final.csv'\n",
    "correlation_file = r'C:/Polimeromics/data/BIOGRID-CSV/cleaned_blocks/identifier_id_correlation.csv'\n",
    "\n",
    "# Read the data file\n",
    "# Leer el archivo de datos\n",
    "print(\"Cargando el archivo para limpieza...\")\n",
    "data = pd.read_csv(input_file, low_memory=False)\n",
    "\n",
    "# Step 1: Remove duplicates\n",
    "# Paso 1: Eliminar duplicados\n",
    "print(\"Eliminando duplicados...\")\n",
    "data.drop_duplicates(inplace=True)\n",
    "\n",
    "\n",
    "# Step 2: Impute values for 'IDENTIFIER_ID\n",
    "# 'IDENTIFIER_ID' is a key column, and null values must be handled to maintain the integrity of the analysis.\n",
    "# Strategy: Fill null values using a correlation with other columns,\n",
    "# or with a single marker value if there is no correlation.\n",
    "\n",
    "# Paso 2: Imputar valores para 'IDENTIFIER_ID'\n",
    "# 'IDENTIFIER_ID' es una columna clave, y los valores nulos deben ser manejados para mantener la integridad del análisis.\n",
    "# Estrategia: Rellenar valores nulos utilizando una correlación con otras columnas,\n",
    "# o con un valor marcador único si no hay correlación.\n",
    "\n",
    "print(\"Imputando valores para 'IDENTIFIER_ID'...\")\n",
    "if 'IDENTIFIER_ID' in data.columns:\n",
    "    # Generate a correlation dictionary (to impute in other blocks as well)\n",
    "    # Generar un diccionario de correlación (para imputar en otros bloques también)\n",
    "    correlation_map = data.groupby(['IDENTIFIER_TYPE', 'OFFICIAL_SYMBOL'])['IDENTIFIER_ID'].first().dropna().to_dict()\n",
    "    data['IDENTIFIER_ID'] = data.apply(\n",
    "        lambda row: correlation_map.get((row['IDENTIFIER_TYPE'], row['OFFICIAL_SYMBOL']), row['IDENTIFIER_ID'])\n",
    "        if pd.isna(row['IDENTIFIER_ID']) else row['IDENTIFIER_ID'], axis=1\n",
    "    )\n",
    "    # Save correlations for future reference\n",
    "    # Guardar correlaciones para referencia futura\n",
    "    pd.DataFrame.from_dict(correlation_map, orient='index', columns=['IDENTIFIER_ID']).to_csv(correlation_file)\n",
    "\n",
    "# Step 3: Remove special characters\n",
    "# The special characters in these columns do not represent chemical strings.\n",
    "\n",
    "# Paso 3: Eliminar caracteres especiales\n",
    "# Los caracteres especiales en estas columnas no representan cadenas quimicas.\n",
    "print(\"Eliminando caracteres especiales de columnas de texto...\")\n",
    "data = data.replace(r'[^\\w\\s]', '', regex=True)\n",
    "\n",
    "# Step 4: Handling null values\n",
    "# Some columns have null values, which must be handled properly.\n",
    "\n",
    "# Paso 4: Manejo de valores nulos\n",
    "# Algunas columnas tienen valores nulos, que deben ser manejados adecuadamente.\n",
    "print(\"Manejando valores nulos...\")\n",
    "null_threshold = 0.5\n",
    "columns_to_drop = data.columns[data.isnull().mean() > null_threshold]\n",
    "data.drop(columns=columns_to_drop, inplace=True)\n",
    "print(f\"Columnas eliminadas por exceso de nulos (>50%): {list(columns_to_drop)}\")\n",
    "\n",
    "# Fill in remaining null values in numeric columns with the median\n",
    "# Rellenar valores nulos restantes en columnas numéricas con la mediana\n",
    "data.fillna(data.median(numeric_only=True), inplace=True)\n",
    "\n",
    "# Step 5: Additional verification and cleanup\n",
    "# Confirm that there are no duplicates or problematic characters\n",
    "\n",
    "# Paso 5: Verificación y limpieza adicional\n",
    "# Confirmar que no hay duplicados ni caracteres problemáticos\n",
    "print(\"Realizando verificaciones adicionales...\")\n",
    "assert not data.duplicated().any(), \"Existen duplicados después de la limpieza.\"\n",
    "\n",
    "# Save the clean file\n",
    "# Guardar el archivo limpio\n",
    "print(\"Guardando el archivo limpio...\")\n",
    "data.to_csv(output_file, index=False)\n",
    "\n",
    "print(f\"Archivo procesado y guardado en {output_file}\")"
   ]
  },
  {
   "cell_type": "code",
   "execution_count": 4,
   "id": "c1678675",
   "metadata": {},
   "outputs": [
    {
     "name": "stdout",
     "output_type": "stream",
     "text": [
      "Cargando el archivo para análisis...\n",
      "Generando reporte...\n",
      "Reporte generado y guardado en C:/Polimeromics/data/BIOGRID-CSV/cleaned_blocks/cleaned_block_1_report_1.txt\n"
     ]
    }
   ],
   "source": [
    "# I check with a report the characteristics of the file.\n",
    "# Reviso con un reporte las caracteristicas del archivo\n",
    "\n",
    "# Path of the file to be analyzed\n",
    "# Ruta del archivo a analizar\n",
    "file_to_analyze = r'C:/Polimeromics/data/BIOGRID-CSV/cleaned_blocks/cleaned_block_1_final.csv'\n",
    "report_file = r'C:/Polimeromics/data/BIOGRID-CSV/cleaned_blocks/cleaned_block_1_report_1.txt'\n",
    "\n",
    "# Read the file\n",
    "# Leer el archivo\n",
    "print(\"Cargando el archivo para análisis...\")\n",
    "data = pd.read_csv(file_to_analyze, low_memory=False)\n",
    "\n",
    "# Initialize report\n",
    "# Inicializar reporte\n",
    "report = []\n",
    "\n",
    "# Step 1: General file information\n",
    "# Paso 1: Información general del archivo\n",
    "report.append(\"=== Información general ===\")\n",
    "report.append(f\"Número de filas: {data.shape[0]}\")\n",
    "report.append(f\"Número de columnas: {data.shape[1]}\")\n",
    "\n",
    "# Step 2: Data types and columns\n",
    "# Paso 2: Tipos de datos y columnas\n",
    "report.append(\"\\n=== Tipos de datos y columnas ===\")\n",
    "report.append(data.dtypes.to_string())\n",
    "\n",
    "# Step 3: Duplicates\n",
    "# Paso 3: Duplicados\n",
    "duplicates_count = data.duplicated().sum()\n",
    "report.append(f\"\\n=== Duplicados ===\")\n",
    "report.append(f\"Número de duplicados: {duplicates_count}\")\n",
    "\n",
    "# Step 4: Null values\n",
    "# Paso 4: Valores nulos\n",
    "null_summary = data.isnull().sum()\n",
    "columns_with_nulls = null_summary[null_summary > 0]\n",
    "report.append(\"\\n=== Valores nulos ===\")\n",
    "if not columns_with_nulls.empty:\n",
    "    report.append(columns_with_nulls.to_string())\n",
    "else:\n",
    "    report.append(\"No hay valores nulos.\")\n",
    "\n",
    "# Step 5: Descriptive statistics\n",
    "# Paso 5: Estadísticas descriptivas\n",
    "report.append(\"\\n=== Estadísticas descriptivas ===\")\n",
    "report.append(data.describe(include='all', percentiles=[0.25, 0.5, 0.75]).to_string())\n",
    "\n",
    "# Step 6: Unique values per column\n",
    "# Paso 6: Valores únicos por columna\n",
    "report.append(\"\\n=== Valores únicos por columna ===\")\n",
    "unique_counts = data.nunique()\n",
    "report.append(unique_counts.to_string())\n",
    "\n",
    "# Step 7: File size\n",
    "# Paso 7: Tamaño del archivo\n",
    "file_size_mb = data.memory_usage(index=True).sum() / (1024 ** 2)\n",
    "report.append(\"\\n=== Tamaño del archivo ===\")\n",
    "report.append(f\"Tamaño en memoria: {file_size_mb:.2f} MB\")\n",
    "\n",
    "# Save report\n",
    "# Guardar reporte\n",
    "print(\"Generando reporte...\")\n",
    "with open(report_file, 'w') as file:\n",
    "    file.write(\"\\n\".join(report))\n",
    "\n",
    "print(f\"Reporte generado y guardado en {report_file}\")"
   ]
  },
  {
   "cell_type": "code",
   "execution_count": 7,
   "id": "7e75c96f",
   "metadata": {},
   "outputs": [
    {
     "name": "stdout",
     "output_type": "stream",
     "text": [
      "Cargando archivo para refinamiento...\n",
      "Imputando valores nulos en columnas clave...\n",
      "Eliminando# Step 3: Review and treat outliers in SCORE.1\n",
      "Verificando y tratando valores extremos en SCORE.1...\n",
      "Validando integridad de datos...\n",
      "Guardando el archivo refinado...\n",
      "Archivo refinado guardado en C:/Polimeromics/data/BIOGRID-CSV/cleaned_blocks/cleaned_block_1_refined.csv\n"
     ]
    }
   ],
   "source": [
    "# The review process should be repeated in Big data and verified, as there are still 436.727 correlated null values in key columns.\n",
    "# I continue to adjust the file for later merging and handling null values with: \n",
    "# impute values and remove redundant columns or columns that do not add value to the analysis.\n",
    "\n",
    "# El proceso de revision debe repetirse en Big dta y verificarse, aun hay 436.727 valores nulos correlacionados en columnas claves\n",
    "# Sigo ajustando el archivo para su posterior fusion y manejando valores nulos con: \n",
    "# imputación de valores y eliminar columnas redundantes o que no aportan valor al analisis \n",
    "\n",
    "# Path of the file to be processed\n",
    "# Ruta del archivo a procesar\n",
    "input_file = r'C:/Polimeromics/data/BIOGRID-CSV/cleaned_blocks/cleaned_block_1_final.csv'\n",
    "output_file = r'C:/Polimeromics/data/BIOGRID-CSV/cleaned_blocks/cleaned_block_1_refined.csv'\n",
    "correlation_file = r'C:/Polimeromics/data/BIOGRID-CSV/cleaned_blocks/identifier_id_correlation.csv'\n",
    "\n",
    "# Read the processed file\n",
    "# Leer el archivo procesado\n",
    "print(\"Cargando archivo para refinamiento...\")\n",
    "data = pd.read_csv(input_file, low_memory=False)\n",
    "\n",
    "# Step 1: Handling null values in key columns\n",
    "# Filling null values of IDENTIFIER_ID, IDENTIFIER_TYPE, and OFFICIAL_SYMBOL\n",
    "\n",
    "# Paso 1: Manejo de valores nulos en columnas clave\n",
    "# Rellenar valores nulos de IDENTIFIER_ID, IDENTIFIER_TYPE, y OFFICIAL_SYMBOL\n",
    "print(\"Imputando valores nulos en columnas clave...\")\n",
    "if 'IDENTIFIER_ID' in data.columns:\n",
    "    \n",
    "    # Load existing correlations\n",
    "    # Cargar correlaciones existentes\n",
    "    try:\n",
    "        correlation_map = pd.read_csv(correlation_file, index_col=0).to_dict()['IDENTIFIER_ID']\n",
    "    except FileNotFoundError:\n",
    "        correlation_map = {}\n",
    "    \n",
    "    data['IDENTIFIER_ID'] = data.apply(\n",
    "        lambda row: correlation_map.get((row['IDENTIFIER_TYPE'], row['OFFICIAL_SYMBOL']), row['IDENTIFIER_ID'])\n",
    "        if pd.isna(row['IDENTIFIER_ID']) else row['IDENTIFIER_ID'], axis=1\n",
    "    )\n",
    "\n",
    "# Step 2: Remove redundant columns\n",
    "# ORGANISM_ID has a single value and will be removed\n",
    "    \n",
    "# Paso 2: Eliminar columnas redundantes\n",
    "# ORGANISM_ID tiene un único valor y será eliminada\n",
    "print(\"Eliminando# Step 3: Review and treat outliers in SCORE.1\")\n",
    "columns_to_drop = ['ORGANISM_ID', '#SCREEN_ID']\n",
    "data.drop(columns=columns_to_drop, inplace=True, errors='ignore')\n",
    "\n",
    "\n",
    "# Step 3: Review and treat outliers in SCORE.1\n",
    "# Check if outliers are reasonable\n",
    "\n",
    "# Paso 3: Revisar y tratar valores extremos en SCORE.1\n",
    "# Verificar si los valores extremos son razonables\n",
    "print(\"Verificando y tratando valores extremos en SCORE.1...\")\n",
    "if 'SCORE.1' in data.columns:\n",
    "    q1 = data['SCORE.1'].quantile(0.25)\n",
    "    q3 = data['SCORE.1'].quantile(0.75)\n",
    "    iqr = q3 - q1\n",
    "    lower_bound = q1 - 1.5 * iqr\n",
    "    upper_bound = q3 + 1.5 * iqr\n",
    "\n",
    "    # Reemplazar valores extremos por límites razonables\n",
    "    data['SCORE.1'] = data['SCORE.1'].apply(\n",
    "        lambda x: lower_bound if x < lower_bound else upper_bound if x > upper_bound else x\n",
    "    )\n",
    "# Step 4: Validate final integrity\n",
    "# Confirm that there are no remaining null values\n",
    "            \n",
    "# Paso 4: Validar integridad final\n",
    "# Confirmar que no hay valores nulos restantes\n",
    "print(\"Validando integridad de datos...\")\n",
    "data.fillna(\"UNKNOWN\", inplace=True)\n",
    "\n",
    "# Step 5: Save refined file\n",
    "# Paso 5: Guardar archivo refinado\n",
    "print(\"Guardando el archivo refinado...\")\n",
    "data.to_csv(output_file, index=False)\n",
    "\n",
    "print(f\"Archivo refinado guardado en {output_file}\")"
   ]
  },
  {
   "cell_type": "code",
   "execution_count": 8,
   "id": "75b1547c",
   "metadata": {},
   "outputs": [
    {
     "name": "stdout",
     "output_type": "stream",
     "text": [
      "Cargando el archivo para análisis...\n",
      "Generando reporte...\n",
      "Reporte generado y guardado en C:/Polimeromics/data/BIOGRID-CSV/cleaned_blocks/cleaned_block_1_report_1_1.txt\n"
     ]
    }
   ],
   "source": [
    "# I generate a new report to verify the changes.\n",
    "# Reviso con un reporte nuevamente las caracteristicas del archivo\n",
    "\n",
    "# Path of the file to be analyzed\n",
    "# Ruta del archivo a analizar\n",
    "file_to_analyze = r'C:/Polimeromics/data/BIOGRID-CSV/cleaned_blocks/cleaned_block_1_refined.csv'\n",
    "report_file = r'C:/Polimeromics/data/BIOGRID-CSV/cleaned_blocks/cleaned_block_1_report_1_1.txt'\n",
    "\n",
    "# Read the file \n",
    "# Leer el archivo\n",
    "print(\"Cargando el archivo para análisis...\")\n",
    "data = pd.read_csv(file_to_analyze, low_memory=False)\n",
    "\n",
    "# Initialize report\n",
    "# Inicializar reporte\n",
    "report = []\n",
    "\n",
    "# Step 1: General file information\n",
    "# Paso 1: Información general del archivo\n",
    "report.append(\"=== Información general ===\")\n",
    "report.append(f\"Número de filas: {data.shape[0]}\")\n",
    "report.append(f\"Número de columnas: {data.shape[1]}\")\n",
    "\n",
    "# Step 2: Data types and columns\n",
    "# Paso 2: Tipos de datos y columnas\n",
    "report.append(\"\\n=== Tipos de datos y columnas ===\")\n",
    "report.append(data.dtypes.to_string())\n",
    "\n",
    "# Step 3: Duplicates\n",
    "# Paso 3: Duplicados\n",
    "duplicates_count = data.duplicated().sum()\n",
    "report.append(f\"\\n=== Duplicados ===\")\n",
    "report.append(f\"Número de duplicados: {duplicates_count}\")\n",
    "\n",
    "# Step 4: Null values\n",
    "# Paso 4: Valores nulos\n",
    "null_summary = data.isnull().sum()\n",
    "columns_with_nulls = null_summary[null_summary > 0]\n",
    "report.append(\"\\n=== Valores nulos ===\")\n",
    "if not columns_with_nulls.empty:\n",
    "    report.append(columns_with_nulls.to_string())\n",
    "else:\n",
    "    report.append(\"No hay valores nulos.\")\n",
    "\n",
    "# Step 5: Descriptive statistics\n",
    "# Paso 5: Estadísticas descriptivas\n",
    "report.append(\"\\n=== Estadísticas descriptivas ===\")\n",
    "report.append(data.describe(include='all', percentiles=[0.25, 0.5, 0.75]).to_string())\n",
    "\n",
    "# Step 6: Unique values per column\n",
    "# Paso 6: Valores únicos por columna\n",
    "report.append(\"\\n=== Valores únicos por columna ===\")\n",
    "unique_counts = data.nunique()\n",
    "report.append(unique_counts.to_string())\n",
    "\n",
    "# Step 7: File size\n",
    "# Paso 7: Tamaño del archivo\n",
    "file_size_mb = data.memory_usage(index=True).sum() / (1024 ** 2)\n",
    "report.append(\"\\n=== Tamaño del archivo ===\")\n",
    "report.append(f\"Tamaño en memoria: {file_size_mb:.2f} MB\")\n",
    "\n",
    "# Save report\n",
    "# Guardar reporte\n",
    "print(\"Generando reporte...\")\n",
    "with open(report_file, 'w') as file:\n",
    "    file.write(\"\\n\".join(report))\n",
    "\n",
    "print(f\"Reporte generado y guardado en {report_file}\")"
   ]
  },
  {
   "cell_type": "code",
   "execution_count": 9,
   "id": "e6c3ba69",
   "metadata": {},
   "outputs": [
    {
     "name": "stdout",
     "output_type": "stream",
     "text": [
      "Cargando archivo para refinamiento...\n",
      "Imputando valores nulos en columnas clave...\n",
      "Verificando y tratando valores extremos en SCORE.1...\n",
      "Eliminando duplicados basados en columnas clave...\n",
      "Validando integridad de datos...\n",
      "Guardando el archivo refinado...\n",
      "Archivo refinado guardado en C:/Polimeromics/data/BIOGRID-CSV/cleaned_blocks/cleaned_block_1_refined.csv\n"
     ]
    }
   ],
   "source": [
    "# An analysis shows that there are 637,000 duplicates so I will do a treatment to \n",
    "# remove duplicates based on a set of key columns (IDENTIFIER_ID, IDENTIFIER_TYPE, OFFICIAL_SYMBOL, SCORE.1). \n",
    "\n",
    "# Un analisis demuestra que hay 637.000 duplicados por lo que hare un tratamiento para \n",
    "# eliminar duplicados basados en un conjunto de columnas clave (IDENTIFIER_ID, IDENTIFIER_TYPE, OFFICIAL_SYMBOL, SCORE.1). \n",
    "\n",
    "# Path of the file to be processed\n",
    "# Ruta del archivo a procesar\n",
    "input_file = r'C:/Polimeromics/data/BIOGRID-CSV/cleaned_blocks/cleaned_block_1_final.csv'\n",
    "output_file = r'C:/Polimeromics/data/BIOGRID-CSV/cleaned_blocks/cleaned_block_1_refined.csv'\n",
    "correlation_file = r'C:/Polimeromics/data/BIOGRID-CSV/cleaned_blocks/identifier_id_correlation.csv'\n",
    "\n",
    "# Read the processed file\n",
    "# Leer el archivo procesado\n",
    "print(\"Cargando archivo para refinamiento...\")\n",
    "data = pd.read_csv(input_file, low_memory=False)\n",
    "\n",
    "# Step 1: Handling null values in key columns\n",
    "# Filling null values of IDENTIFIER_ID, IDENTIFIER_TYPE, and OFFICIAL_SYMBOL\n",
    "\n",
    "# Paso 1: Manejo de valores nulos en columnas clave\n",
    "# Rellenar valores nulos de IDENTIFIER_ID, IDENTIFIER_TYPE, y OFFICIAL_SYMBOL\n",
    "print(\"Imputando valores nulos en columnas clave...\")\n",
    "if 'IDENTIFIER_ID' in data.columns:\n",
    "    # Cargar correlaciones existentes\n",
    "    try:\n",
    "        correlation_map = pd.read_csv(correlation_file, index_col=0).to_dict()['IDENTIFIER_ID']\n",
    "    except FileNotFoundError:\n",
    "        correlation_map = {}\n",
    "    \n",
    "    data['IDENTIFIER_ID'] = data.apply(\n",
    "        lambda row: correlation_map.get((row['IDENTIFIER_TYPE'], row['OFFICIAL_SYMBOL']), row['IDENTIFIER_ID'])\n",
    "        if pd.isna(row['IDENTIFIER_ID']) else row['IDENTIFIER_ID'], axis=1\n",
    "    )\n",
    "\n",
    "# Step 2: Check and treat outliers in SCORE.1\n",
    "# Check if outliers are reasonable\n",
    "    \n",
    "# Paso 2: Revisar y tratar valores extremos en SCORE.1\n",
    "# Verificar si los valores extremos son razonables\n",
    "print(\"Verificando y tratando valores extremos en SCORE.1...\")\n",
    "if 'SCORE.1' in data.columns:\n",
    "    q1 = data['SCORE.1'].quantile(0.25)\n",
    "    q3 = data['SCORE.1'].quantile(0.75)\n",
    "    iqr = q3 - q1\n",
    "    lower_bound = q1 - 1.5 * iqr\n",
    "    upper_bound = q3 + 1.5 * iqr\n",
    "    \n",
    "    # Replace extreme values by reasonable limits\n",
    "    # Reemplazar valores extremos por límites razonables\n",
    "    data['SCORE.1'] = data['SCORE.1'].apply(\n",
    "        lambda x: lower_bound if x < lower_bound else upper_bound if x > upper_bound else x\n",
    "    )\n",
    "# Step 3: Remove duplicates based on key columns\n",
    "# This ensures that conceptual duplicates are properly handled.\n",
    "   \n",
    "# Paso 3: Eliminar duplicados basados en columnas clave\n",
    "# Esto asegura que los duplicados conceptuales sean tratados adecuadamente\n",
    "print(\"Eliminando duplicados basados en columnas clave...\")\n",
    "columns_to_consider = ['IDENTIFIER_ID', 'IDENTIFIER_TYPE', 'OFFICIAL_SYMBOL', 'SCORE.1']\n",
    "data.drop_duplicates(subset=columns_to_consider, inplace=True)\n",
    "\n",
    "# Step 4: Validate final integrity\n",
    "# Confirm that there are no null values remaining\n",
    "\n",
    "# Paso 4: Validar integridad final\n",
    "# Confirmar que no hay valores nulos restantes\n",
    "print(\"Validando integridad de datos...\")\n",
    "data.fillna(\"UNKNOWN\", inplace=True)\n",
    "\n",
    "# Step 5: Save refined file\n",
    "# Paso 5: Guardar archivo refinado\n",
    "print(\"Guardando el archivo refinado...\")\n",
    "data.to_csv(output_file, index=False)\n",
    "\n",
    "print(f\"Archivo refinado guardado en {output_file}\")\n"
   ]
  },
  {
   "cell_type": "code",
   "execution_count": 10,
   "id": "4e573c6c",
   "metadata": {},
   "outputs": [
    {
     "name": "stdout",
     "output_type": "stream",
     "text": [
      "Cargando el archivo para análisis...\n",
      "Generando reporte...\n",
      "Reporte generado y guardado en C:/Polimeromics/data/BIOGRID-CSV/cleaned_blocks/cleaned_block_1_report_1_2.txt\n"
     ]
    }
   ],
   "source": [
    "# Valid again with a report to verify the changes.\n",
    "# Reviso con un reporte nuevamente las caracteristicas del archivo\n",
    "\n",
    "# Path of the file to be analyzed\n",
    "# Ruta del archivo a analizar\n",
    "file_to_analyze = r'C:/Polimeromics/data/BIOGRID-CSV/cleaned_blocks/cleaned_block_1_refined.csv'\n",
    "report_file = r'C:/Polimeromics/data/BIOGRID-CSV/cleaned_blocks/cleaned_block_1_report_1_2.txt'\n",
    "\n",
    "# Read file\n",
    "# Leer el archivo\n",
    "print(\"Cargando el archivo para análisis...\")\n",
    "data = pd.read_csv(file_to_analyze, low_memory=False)\n",
    "\n",
    "# Initialize report\n",
    "# Inicializar reporte\n",
    "report = []\n",
    "\n",
    "# Step 1: General file information\n",
    "# Paso 1: Información general del archivo\n",
    "report.append(\"=== Información general ===\")\n",
    "report.append(f\"Número de filas: {data.shape[0]}\")\n",
    "report.append(f\"Número de columnas: {data.shape[1]}\")\n",
    "\n",
    "# Step 2: Data types and columns\n",
    "# Paso 2: Tipos de datos y columnas\n",
    "report.append(\"\\n=== Tipos de datos y columnas ===\")\n",
    "report.append(data.dtypes.to_string())\n",
    "\n",
    "# Step 3: Duplicates\n",
    "# Paso 3: Duplicados\n",
    "duplicates_count = data.duplicated().sum()\n",
    "report.append(f\"\\n=== Duplicados ===\")\n",
    "report.append(f\"Número de duplicados: {duplicates_count}\")\n",
    "\n",
    "# Step 4: Null values\n",
    "# Paso 4: Valores nulos\n",
    "null_summary = data.isnull().sum()\n",
    "columns_with_nulls = null_summary[null_summary > 0]\n",
    "report.append(\"\\n=== Valores nulos ===\")\n",
    "if not columns_with_nulls.empty:\n",
    "    report.append(columns_with_nulls.to_string())\n",
    "else:\n",
    "    report.append(\"No hay valores nulos.\")\n",
    "\n",
    "# Step 5: Descriptive statistics\n",
    "# Paso 5: Estadísticas descriptivas\n",
    "report.append(\"\\n=== Estadísticas descriptivas ===\")\n",
    "report.append(data.describe(include='all', percentiles=[0.25, 0.5, 0.75]).to_string())\n",
    "\n",
    "# Step 6: Unique values per column\n",
    "# Paso 6: Valores únicos por columna\n",
    "report.append(\"\\n=== Valores únicos por columna ===\")\n",
    "unique_counts = data.nunique()\n",
    "report.append(unique_counts.to_string())\n",
    "\n",
    "# Step 7: File size\n",
    "# Paso 7: Tamaño del archivo\n",
    "file_size_mb = data.memory_usage(index=True).sum() / (1024 ** 2)\n",
    "report.append(\"\\n=== Tamaño del archivo ===\")\n",
    "report.append(f\"Tamaño en memoria: {file_size_mb:.2f} MB\")\n",
    "\n",
    "# Save report\n",
    "# Guardar reporte\n",
    "print(\"Generando reporte...\")\n",
    "with open(report_file, 'w') as file:\n",
    "    file.write(\"\\n\".join(report))\n",
    "\n",
    "print(f\"Reporte generado y guardado en {report_file}\")"
   ]
  },
  {
   "cell_type": "code",
   "execution_count": 11,
   "id": "f030241a",
   "metadata": {},
   "outputs": [
    {
     "name": "stdout",
     "output_type": "stream",
     "text": [
      "Cargando archivo para refinamiento...\n",
      "Imputando valores nulos en columnas clave...\n",
      "Eliminando columnas redundantes...\n",
      "Verificando y tratando valores extremos en SCORE.1...\n",
      "Normalizando SCORE.1 y SCORE.2...\n"
     ]
    },
    {
     "name": "stderr",
     "output_type": "stream",
     "text": [
      "C:\\Users\\kentv\\AppData\\Local\\Temp\\ipykernel_14624\\315615901.py:63: FutureWarning: A value is trying to be set on a copy of a DataFrame or Series through chained assignment using an inplace method.\n",
      "The behavior will change in pandas 3.0. This inplace method will never work because the intermediate object on which we are setting values always behaves as a copy.\n",
      "\n",
      "For example, when doing 'df[col].method(value, inplace=True)', try using 'df.method({col: value}, inplace=True)' or df[col] = df[col].method(value) instead, to perform the operation inplace on the original object.\n",
      "\n",
      "\n",
      "  data['SCORE.2'].fillna(median_score2, inplace=True)\n"
     ]
    },
    {
     "name": "stdout",
     "output_type": "stream",
     "text": [
      "Eliminando duplicados basados en columnas clave...\n",
      "Eliminando notación científica y elevando precisión...\n",
      "Validando integridad de datos...\n",
      "Generando visualizaciones...\n"
     ]
    },
    {
     "data": {
      "image/png": "[encoded data removed]",
      "text/plain": [
       "<Figure size 1000x600 with 1 Axes>"
      ]
     },
     "metadata": {},
     "output_type": "display_data"
    },
    {
     "data": {
      "image/png": "[encoded data removed]",
      "text/plain": [
       "<Figure size 1000x600 with 1 Axes>"
      ]
     },
     "metadata": {},
     "output_type": "display_data"
    },
    {
     "name": "stdout",
     "output_type": "stream",
     "text": [
      "Guardando el archivo refinado...\n",
      "Archivo refinado guardado en C:/Polimeromics/data/BIOGRID-CSV/cleaned_blocks/cleaned_block_1_refined.csv\n"
     ]
    }
   ],
   "source": [
    "# I must eliminate two columns that do not contribute to the model, I will proceed with the previous script and new approach with pandas.  \n",
    "# Handling of null values in key columns, treatment of extreme values and normalization\n",
    "# Generate visualizations for scoree_1 and scoree_2\n",
    "\n",
    "# Debo eliminar dos columnas que no aportan al modelo, procedere con el script anterior y nuevo enfoque con pandas  \n",
    "# Manejo de valores nulos en columnas clave, tratamiento de valores extremos y normalizacion\n",
    "# Genero visualizaciones para scoree_1 y scoree_2\n",
    "\n",
    "\n",
    "from sklearn.preprocessing import MinMaxScaler\n",
    "import matplotlib.pyplot as plt\n",
    "import pandas as pd\n",
    "\n",
    "# Global configuration to disable scientific notation on pandas\n",
    "# Configuración global para deshabilitar notación científica en pandas\n",
    "pd.options.display.float_format = '{:.30f}'.format\n",
    "\n",
    "# Path of the file to be processed\n",
    "# Ruta del archivo a procesar\n",
    "input_file = r'C:/Polimeromics/data/BIOGRID-CSV/cleaned_blocks/cleaned_block_1_final.csv'\n",
    "output_file = r'C:/Polimeromics/data/BIOGRID-CSV/cleaned_blocks/cleaned_block_1_refined.csv'\n",
    "correlation_file = r'C:/Polimeromics/data/BIOGRID-CSV/cleaned_blocks/identifier_id_correlation.csv'\n",
    "\n",
    "# Read the processed file\n",
    "# Leer el archivo procesado\n",
    "print(\"Cargando archivo para refinamiento...\")\n",
    "data = pd.read_csv(input_file, low_memory=False)\n",
    "\n",
    "# Step 1: Handling null values in key columns\n",
    "# Paso 1: Manejo de valores nulos en columnas clave\n",
    "print(\"Imputando valores nulos en columnas clave...\")\n",
    "if 'IDENTIFIER_ID' in data.columns:\n",
    "    try:\n",
    "        correlation_map = pd.read_csv(correlation_file, index_col=0).to_dict()['IDENTIFIER_ID']\n",
    "    except FileNotFoundError:\n",
    "        correlation_map = {}\n",
    "    \n",
    "    data['IDENTIFIER_ID'] = data.apply(\n",
    "        lambda row: correlation_map.get((row['IDENTIFIER_TYPE'], row['OFFICIAL_SYMBOL']), row['IDENTIFIER_ID'])\n",
    "        if pd.isna(row['IDENTIFIER_ID']) else row['IDENTIFIER_ID'], axis=1\n",
    "    )\n",
    "# Step 2: Eliminate redundant columns\n",
    "# Paso 2: Eliminar columnas redundantes\n",
    "print(\"Eliminando columnas redundantes...\")\n",
    "columns_to_drop = ['ORGANISM_ID', '#SCREEN_ID']\n",
    "data.drop(columns=columns_to_drop, inplace=True, errors='ignore')\n",
    "\n",
    "# Step 3: Review and treat outliers in SCORE.1\n",
    "# Paso 3: Revisar y tratar valores extremos en SCORE.1\n",
    "print(\"Verificando y tratando valores extremos en SCORE.1...\")\n",
    "if 'SCORE.1' in data.columns:\n",
    "    q1 = data['SCORE.1'].quantile(0.25)\n",
    "    q3 = data['SCORE.1'].quantile(0.75)\n",
    "    iqr = q3 - q1\n",
    "    lower_bound = q1 - 1.5 * iqr\n",
    "    upper_bound = q3 + 1.5 * iqr\n",
    "    data['SCORE.1'] = data['SCORE.1'].clip(lower=lower_bound, upper=upper_bound)\n",
    "\n",
    "# Step 4: Standardize SCORE.1 and SCORE.2\n",
    "# Paso 4: Normalizar SCORE.1 y SCORE.2\n",
    "print(\"Normalizando SCORE.1 y SCORE.2...\")\n",
    "scaler = MinMaxScaler()\n",
    "\n",
    "if 'SCORE.1' in data.columns:\n",
    "    data['SCORE.1'] = scaler.fit_transform(data[['SCORE.1']])\n",
    "\n",
    "if 'SCORE.2' in data.columns:\n",
    "    data['SCORE.2'] = pd.to_numeric(data['SCORE.2'], errors='coerce')\n",
    "    median_score2 = data['SCORE.2'].median()\n",
    "    data['SCORE.2'].fillna(median_score2, inplace=True)\n",
    "    data['SCORE.2'] = scaler.fit_transform(data[['SCORE.2']])\n",
    "\n",
    "# Step 5: Eliminate duplicates based on key columns\n",
    "# Paso 5: Eliminar duplicados basados en columnas clave\n",
    "print(\"Eliminando duplicados basados en columnas clave...\")\n",
    "columns_to_consider = ['IDENTIFIER_ID', 'IDENTIFIER_TYPE', 'OFFICIAL_SYMBOL', 'SCORE.1', 'SCORE.2']\n",
    "data.drop_duplicates(subset=columns_to_consider, inplace=True)\n",
    "\n",
    "# Step 6: Eliminate scientific notation and raise precision to 30 digits\n",
    "# Paso 6: Eliminar notación científica y elevar precisión a 30 dígitos\n",
    "print(\"Eliminando notación científica y elevando precisión...\")\n",
    "numeric_columns = data.select_dtypes(include=['float64', 'int64']).columns\n",
    "for col in numeric_columns:\n",
    "    data[col] = data[col].apply(lambda x: round(float(x), 30) if pd.notnull(x) else x)\n",
    "\n",
    "# Step 7: Validate final integrity\n",
    "# Paso 7: Validar integridad final\n",
    "print(\"Validando integridad de datos...\")\n",
    "data.fillna(\"UNKNOWN\", inplace=True)\n",
    "\n",
    "# Step 8: Visualizations\n",
    "# Paso 8: Visualizaciones\n",
    "print(\"Generando visualizaciones...\")\n",
    "plt.figure(figsize=(10, 6))\n",
    "plt.hist(data['SCORE.1'].dropna(), bins=50, alpha=0.7, label='SCORE.1', color='blue')\n",
    "plt.title('Distribución de SCORE.1')\n",
    "plt.xlabel('SCORE.1 (Normalizado)')\n",
    "plt.ylabel('Frecuencia')\n",
    "plt.legend()\n",
    "plt.savefig('score1_distribution.png')\n",
    "plt.show()\n",
    "\n",
    "plt.figure(figsize=(10, 6))\n",
    "plt.hist(data['SCORE.2'].dropna(), bins=50, alpha=0.7, label='SCORE.2', color='green')\n",
    "plt.title('Distribución de SCORE.2')\n",
    "plt.xlabel('SCORE.2 (Normalizado)')\n",
    "plt.ylabel('Frecuencia')\n",
    "plt.legend()\n",
    "plt.savefig('score2_distribution.png')\n",
    "plt.show()\n",
    "\n",
    "# Save refined file with formatting\n",
    "# Guardar archivo refinado con formato\n",
    "print(\"Guardando el archivo refinado...\")\n",
    "data.to_csv(output_file, index=False, float_format='%.30f')  # Guardar sin notación científica y con precisión de 30 dígitos\n",
    "\n",
    "print(f\"Archivo refinado guardado en {output_file}\")"
   ]
  },
  {
   "cell_type": "code",
   "execution_count": 12,
   "id": "3023ed8c",
   "metadata": {},
   "outputs": [
    {
     "name": "stdout",
     "output_type": "stream",
     "text": [
      "Cargando el archivo para análisis...\n",
      "Generando reporte...\n",
      "Reporte generado y guardado en C:/Polimeromics/data/BIOGRID-CSV/cleaned_blocks/cleaned_block_1_report_1_3.txt\n"
     ]
    }
   ],
   "source": [
    "# I check with a last report again the file characteristics to make sure everything is ok.\n",
    "# Reviso con un ultimo reporte nuevamente las caracteristicas del archivo para asegurar que todo este bien\n",
    "\n",
    "# Path of the file to be analyzed\n",
    "# Ruta del archivo a analizar\n",
    "file_to_analyze = r'C:/Polimeromics/data/BIOGRID-CSV/cleaned_blocks/cleaned_block_1_refined.csv'\n",
    "report_file = r'C:/Polimeromics/data/BIOGRID-CSV/cleaned_blocks/cleaned_block_1_report_1_3.txt'\n",
    "\n",
    "# Read file\n",
    "# Leer el archivo\n",
    "print(\"Cargando el archivo para análisis...\")\n",
    "data = pd.read_csv(file_to_analyze, low_memory=False)\n",
    "\n",
    "# Initialize report\n",
    "# Inicializar reporte\n",
    "report = []\n",
    "\n",
    "# Step 1: General file information\n",
    "# Paso 1: Información general del archivo\n",
    "report.append(\"=== Información general ===\")\n",
    "report.append(f\"Número de filas: {data.shape[0]}\")\n",
    "report.append(f\"Número de columnas: {data.shape[1]}\")\n",
    "\n",
    "# Step 2: Data types and columns\n",
    "# Paso 2: Tipos de datos y columnas\n",
    "report.append(\"\\n=== Tipos de datos y columnas ===\")\n",
    "report.append(data.dtypes.to_string())\n",
    "\n",
    "# Step 3: Duplicates\n",
    "# Paso 3: Duplicados\n",
    "duplicates_count = data.duplicated().sum()\n",
    "report.append(f\"\\n=== Duplicados ===\")\n",
    "report.append(f\"Número de duplicados: {duplicates_count}\")\n",
    "\n",
    "# Step 4: Null values\n",
    "# Paso 4: Valores nulos\n",
    "null_summary = data.isnull().sum()\n",
    "columns_with_nulls = null_summary[null_summary > 0]\n",
    "report.append(\"\\n=== Valores nulos ===\")\n",
    "if not columns_with_nulls.empty:\n",
    "    report.append(columns_with_nulls.to_string())\n",
    "else:\n",
    "    report.append(\"No hay valores nulos.\")\n",
    "\n",
    "# Step 5: Descriptive statistics\n",
    "# Paso 5: Estadísticas descriptivas\n",
    "report.append(\"\\n=== Estadísticas descriptivas ===\")\n",
    "report.append(data.describe(include='all', percentiles=[0.25, 0.5, 0.75]).to_string())\n",
    "\n",
    "# Step 6: Unique values per column\n",
    "# Paso 6: Valores únicos por columna\n",
    "report.append(\"\\n=== Valores únicos por columna ===\")\n",
    "unique_counts = data.nunique()\n",
    "report.append(unique_counts.to_string())\n",
    "\n",
    "# Step 7: File size\n",
    "# Paso 7: Tamaño del archivo\n",
    "file_size_mb = data.memory_usage(index=True).sum() / (1024 ** 2)\n",
    "report.append(\"\\n=== Tamaño del archivo ===\")\n",
    "report.append(f\"Tamaño en memoria: {file_size_mb:.2f} MB\")\n",
    "\n",
    "# Save report\n",
    "# Guardar reporte\n",
    "print(\"Generando reporte...\")\n",
    "with open(report_file, 'w') as file:\n",
    "    file.write(\"\\n\".join(report))\n",
    "\n",
    "print(f\"Reporte generado y guardado en {report_file}\")"
   ]
  },
  {
   "cell_type": "code",
   "execution_count": null,
   "id": "57f3206d",
   "metadata": {},
   "outputs": [],
   "source": []
  }
 ],
 "metadata": {
  "kernelspec": {
   "display_name": "Python 3 (ipykernel)",
   "language": "python",
   "name": "python3"
  },
  "language_info": {
   "codemirror_mode": {
    "name": "ipython",
    "version": 3
   },
   "file_extension": ".py",
   "mimetype": "text/x-python",
   "name": "python",
   "nbconvert_exporter": "python",
   "pygments_lexer": "ipython3",
   "version": "3.9.13"
  }
 },
 "nbformat": 4,
 "nbformat_minor": 5
}
